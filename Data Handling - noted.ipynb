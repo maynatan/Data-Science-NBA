{
 "cells": [
  {
   "cell_type": "markdown",
   "metadata": {},
   "source": [
    "DATA HANDLING"
   ]
  },
  {
   "cell_type": "markdown",
   "metadata": {},
   "source": [
    "\n",
    "Importing data from NBA API:\n",
    "* recent games - 2020-2021\n",
    "* players rate\n",
    "\n",
    "In this Notebook we will clean, format, and filter the data.\n",
    "\n"
   ]
  },
  {
   "cell_type": "code",
   "execution_count": 3,
   "metadata": {},
   "outputs": [],
   "source": [
    "import pandas as pd\n",
    "import csv\n",
    "import os\n",
    "import numpy as np"
   ]
  },
  {
   "cell_type": "markdown",
   "metadata": {},
   "source": [
    "PLAYERS DATA"
   ]
  },
  {
   "cell_type": "code",
   "execution_count": 4,
   "metadata": {},
   "outputs": [
    {
     "output_type": "stream",
     "name": "stdout",
     "text": [
      "\nPlayers Data:\n\n ####################\n\nColumns before data handling\n\n ----- > ['PLAYER_ID', 'RANK', 'PLAYER', 'TEAM', 'GP', 'MIN', 'FGM', 'FGA', 'FG_PCT', 'FG3M', 'FG3A', 'FG3_PCT', 'FTM', 'FTA', 'FT_PCT', 'OREB', 'DREB', 'REB', 'AST', 'STL', 'BLK', 'TOV', 'PF', 'PTS', 'EFF', 'AST_TOV', 'STL_TOV']\n"
     ]
    }
   ],
   "source": [
    "#Loading data \n",
    "df_players = pd.read_csv('./nba-players.csv')\n",
    "\n",
    "#Printing columns\n",
    "print('\\nPlayers Data:')\n",
    "print('\\n','#' * 20)\n",
    "print(\"\\nColumns before data handling\")\n",
    "print('\\n','-' * 5,'>', list(df_players.columns))"
   ]
  },
  {
   "cell_type": "code",
   "execution_count": 5,
   "metadata": {},
   "outputs": [],
   "source": [
    "#Removing unnecessary columns\n",
    "remove_col_players = ['PF','PTS','EFF','AST_TOV','STL_TOV','FG3_PCT','FT_PCT','FG_PCT']\n",
    "df_players = df_players.drop(remove_col_players, axis = 1)\n",
    "\n",
    "\n",
    "# Renaming columns\n",
    "change_name_players = {\n",
    "    'GP':'GAMES_PLAYED',\n",
    "    'MIN':'MINUTES_PLAYED',\n",
    "    'FGM':'TOTAL_THROWS_SCORED',\n",
    "    'FGA':'TOTAL_THROWS_ATTEMPTS',\n",
    "    'FG3M':'THREE_THROWS_SCORED',\n",
    "    'FG3A':'THREE_THROWS_ATTEMPTS',\n",
    "    'FTM':'FREE_THROWS_SCORED',\n",
    "    'FTA':'FREE_THROWS_ATTEMPTS',\n",
    "    'OREB':'OFFENSIVE_REBOUNDS',\n",
    "    'DREB':'DEFFENSIVE_REBOUNDS',\n",
    "    'AST':'ASSISTS',\n",
    "    'STL':'STEALS',\n",
    "    'BLK':'BLOCKS'}\n",
    "\n",
    "df_players = df_players.rename(columns = change_name_players)"
   ]
  },
  {
   "cell_type": "code",
   "execution_count": 6,
   "metadata": {},
   "outputs": [],
   "source": [
    "def calculate_player_score(player_row):\n",
    "    # function for scoring players by the metric system shows below\n",
    "    # https://coachingtoolbox.net/analytics/player-performance-grading-scale.html\n",
    "\n",
    "    # -------------------------------------\n",
    "    #     PERFORMANCE GRADE VALUES\n",
    "    # -------------------------------------\n",
    "    # (FGM) TOTAL POINTS SCORED +1\n",
    "    # (FGA - FGM) TOTAL SHOTS MISSED -1\n",
    "    # (FG3M) 3 POINT SHOTS MADE +3\n",
    "    # (FG3A - FG3M) 3 POINT SHOTS MISSED -1.5\n",
    "    # (FTM) FREE THROWS MADE +1\n",
    "    # (FTA - FTM) FREE THROWS MISSED -1\n",
    "    # (OREB) OFFENSIVE REBOUNDS (FT) +2\n",
    "    # (AST) ASSISTS +2\n",
    "    # (DREB) DEFENSIVE REBOUNDS (FT) +2\n",
    "    # (STL) STEALS/RECOVERIES/INTERCEPTIONS +3\n",
    "    # (BLK) BLOCKED SHOT +2\n",
    "\n",
    "\n",
    "    # Creating Guidlines for player scoring\n",
    "    score_guidlines = {\n",
    "        \"TOTAL_THROWS_SCORED\":1,\n",
    "        \"TOTAL_THROWS_MISSED\":-1,\n",
    "        \"THREE_THROWS_SCORED\":3,\n",
    "        \"THREE_THROWS_MISSED\":-1.5,\n",
    "        \"FREE_THROWS_SCORED\":1,\n",
    "        \"FREE_THROWS_MISSED\":-1,\n",
    "        \"OFFENSIVE_REBOUNDS\":2,\n",
    "        \"DEFFENSIVE_REBOUNDS\":2,\n",
    "        \"ASSISTS\":2,\n",
    "        \"STEALS\":3,\n",
    "        \"BLOCKS\":2\n",
    "    }\n",
    "\n",
    "    #calculating the score of a player\n",
    "    totalscore = 0\n",
    "    for field,points in score_guidlines.items():\n",
    "        totalscore = totalscore + ( player_row[field] * points )\n",
    "    \n",
    "    totalscore = totalscore / player_row['MINUTES_PLAYED']\n",
    "    \n",
    "    return totalscore*100\n",
    "\n",
    "\n"
   ]
  },
  {
   "cell_type": "code",
   "execution_count": 7,
   "metadata": {},
   "outputs": [
    {
     "output_type": "execute_result",
     "data": {
      "text/plain": [
       "     PLAYER_ID  RANK                 PLAYER TEAM  GAMES_PLAYED  \\\n",
       "539    1630266   536            Will Magnay  NOP             1   \n",
       "537     204222   536       Greg Whittington  DEN             4   \n",
       "534    1629033   532            Theo Pinson  NYK            17   \n",
       "538     203943   536            Noah Vonleh  BKN             4   \n",
       "531     202697   532          Iman Shumpert  BKN             2   \n",
       "..         ...   ...                    ...  ...           ...   \n",
       "482    1627780   482         Gary Payton II  GSW            10   \n",
       "197       2730   198          Dwight Howard  PHI            69   \n",
       "18      201566    19      Russell Westbrook  WAS            65   \n",
       "2       203999     3           Nikola Jokic  DEN            72   \n",
       "5       203507     6  Giannis Antetokounmpo  MIL            61   \n",
       "\n",
       "     MINUTES_PLAYED  TOTAL_THROWS_SCORED  TOTAL_THROWS_ATTEMPTS  \\\n",
       "539               3                    0                      1   \n",
       "537              12                    0                      3   \n",
       "534              34                    1                      9   \n",
       "538              11                    0                      3   \n",
       "531              11                    1                      4   \n",
       "..              ...                  ...                    ...   \n",
       "482              40                   10                     13   \n",
       "197            1196                  178                    303   \n",
       "18             2369                  544                   1238   \n",
       "2              2488                  732                   1293   \n",
       "5              2013                  626                   1100   \n",
       "\n",
       "     THREE_THROWS_SCORED  THREE_THROWS_ATTEMPTS  ...  DEFFENSIVE_REBOUNDS  \\\n",
       "539                    0                      1  ...                    0   \n",
       "537                    0                      2  ...                    0   \n",
       "534                    0                      8  ...                    5   \n",
       "538                    0                      2  ...                    1   \n",
       "531                    0                      3  ...                    0   \n",
       "..                   ...                    ...  ...                  ...   \n",
       "482                    2                      4  ...                    9   \n",
       "197                    5                     20  ...                  390   \n",
       "18                    86                    273  ...                  641   \n",
       "2                     92                    237  ...                  575   \n",
       "5                     67                    221  ...                  574   \n",
       "\n",
       "     REB  ASSISTS  STEALS  BLOCKS  TOV  TOTAL_THROWS_MISSED  \\\n",
       "539    0        0       0       0    1                    1   \n",
       "537    0        0       0       0    0                    3   \n",
       "534    5        1       0       0    1                    8   \n",
       "538    1        1       0       0    2                    3   \n",
       "531    1        0       1       0    1                    3   \n",
       "..   ...      ...     ...     ...  ...                  ...   \n",
       "482   11        1       6       1    1                    3   \n",
       "197  580       61      30      62  112                  125   \n",
       "18   750      763      89      23  312                  694   \n",
       "2    780      599      95      48  222                  561   \n",
       "5    671      357      72      73  207                  474   \n",
       "\n",
       "     THREE_THROWS_MISSED  FREE_THROWS_MISSED  TOTAL_SCORE  \n",
       "539                    1                   0   -83.333333  \n",
       "537                    2                   0   -50.000000  \n",
       "534                    8                   0   -20.588235  \n",
       "538                    2                   0   -18.181818  \n",
       "531                    3                   0   -13.636364  \n",
       "..                   ...                 ...          ...  \n",
       "482                    2                  -1   145.000000  \n",
       "197                   15                 -89   146.446488  \n",
       "18                   187                -142   151.097509  \n",
       "2                    145                 -52   151.225884  \n",
       "5                    154                -183   155.042226  \n",
       "\n",
       "[540 rows x 23 columns]"
      ],
      "text/html": "<div>\n<style scoped>\n    .dataframe tbody tr th:only-of-type {\n        vertical-align: middle;\n    }\n\n    .dataframe tbody tr th {\n        vertical-align: top;\n    }\n\n    .dataframe thead th {\n        text-align: right;\n    }\n</style>\n<table border=\"1\" class=\"dataframe\">\n  <thead>\n    <tr style=\"text-align: right;\">\n      <th></th>\n      <th>PLAYER_ID</th>\n      <th>RANK</th>\n      <th>PLAYER</th>\n      <th>TEAM</th>\n      <th>GAMES_PLAYED</th>\n      <th>MINUTES_PLAYED</th>\n      <th>TOTAL_THROWS_SCORED</th>\n      <th>TOTAL_THROWS_ATTEMPTS</th>\n      <th>THREE_THROWS_SCORED</th>\n      <th>THREE_THROWS_ATTEMPTS</th>\n      <th>...</th>\n      <th>DEFFENSIVE_REBOUNDS</th>\n      <th>REB</th>\n      <th>ASSISTS</th>\n      <th>STEALS</th>\n      <th>BLOCKS</th>\n      <th>TOV</th>\n      <th>TOTAL_THROWS_MISSED</th>\n      <th>THREE_THROWS_MISSED</th>\n      <th>FREE_THROWS_MISSED</th>\n      <th>TOTAL_SCORE</th>\n    </tr>\n  </thead>\n  <tbody>\n    <tr>\n      <th>539</th>\n      <td>1630266</td>\n      <td>536</td>\n      <td>Will Magnay</td>\n      <td>NOP</td>\n      <td>1</td>\n      <td>3</td>\n      <td>0</td>\n      <td>1</td>\n      <td>0</td>\n      <td>1</td>\n      <td>...</td>\n      <td>0</td>\n      <td>0</td>\n      <td>0</td>\n      <td>0</td>\n      <td>0</td>\n      <td>1</td>\n      <td>1</td>\n      <td>1</td>\n      <td>0</td>\n      <td>-83.333333</td>\n    </tr>\n    <tr>\n      <th>537</th>\n      <td>204222</td>\n      <td>536</td>\n      <td>Greg Whittington</td>\n      <td>DEN</td>\n      <td>4</td>\n      <td>12</td>\n      <td>0</td>\n      <td>3</td>\n      <td>0</td>\n      <td>2</td>\n      <td>...</td>\n      <td>0</td>\n      <td>0</td>\n      <td>0</td>\n      <td>0</td>\n      <td>0</td>\n      <td>0</td>\n      <td>3</td>\n      <td>2</td>\n      <td>0</td>\n      <td>-50.000000</td>\n    </tr>\n    <tr>\n      <th>534</th>\n      <td>1629033</td>\n      <td>532</td>\n      <td>Theo Pinson</td>\n      <td>NYK</td>\n      <td>17</td>\n      <td>34</td>\n      <td>1</td>\n      <td>9</td>\n      <td>0</td>\n      <td>8</td>\n      <td>...</td>\n      <td>5</td>\n      <td>5</td>\n      <td>1</td>\n      <td>0</td>\n      <td>0</td>\n      <td>1</td>\n      <td>8</td>\n      <td>8</td>\n      <td>0</td>\n      <td>-20.588235</td>\n    </tr>\n    <tr>\n      <th>538</th>\n      <td>203943</td>\n      <td>536</td>\n      <td>Noah Vonleh</td>\n      <td>BKN</td>\n      <td>4</td>\n      <td>11</td>\n      <td>0</td>\n      <td>3</td>\n      <td>0</td>\n      <td>2</td>\n      <td>...</td>\n      <td>1</td>\n      <td>1</td>\n      <td>1</td>\n      <td>0</td>\n      <td>0</td>\n      <td>2</td>\n      <td>3</td>\n      <td>2</td>\n      <td>0</td>\n      <td>-18.181818</td>\n    </tr>\n    <tr>\n      <th>531</th>\n      <td>202697</td>\n      <td>532</td>\n      <td>Iman Shumpert</td>\n      <td>BKN</td>\n      <td>2</td>\n      <td>11</td>\n      <td>1</td>\n      <td>4</td>\n      <td>0</td>\n      <td>3</td>\n      <td>...</td>\n      <td>0</td>\n      <td>1</td>\n      <td>0</td>\n      <td>1</td>\n      <td>0</td>\n      <td>1</td>\n      <td>3</td>\n      <td>3</td>\n      <td>0</td>\n      <td>-13.636364</td>\n    </tr>\n    <tr>\n      <th>...</th>\n      <td>...</td>\n      <td>...</td>\n      <td>...</td>\n      <td>...</td>\n      <td>...</td>\n      <td>...</td>\n      <td>...</td>\n      <td>...</td>\n      <td>...</td>\n      <td>...</td>\n      <td>...</td>\n      <td>...</td>\n      <td>...</td>\n      <td>...</td>\n      <td>...</td>\n      <td>...</td>\n      <td>...</td>\n      <td>...</td>\n      <td>...</td>\n      <td>...</td>\n      <td>...</td>\n    </tr>\n    <tr>\n      <th>482</th>\n      <td>1627780</td>\n      <td>482</td>\n      <td>Gary Payton II</td>\n      <td>GSW</td>\n      <td>10</td>\n      <td>40</td>\n      <td>10</td>\n      <td>13</td>\n      <td>2</td>\n      <td>4</td>\n      <td>...</td>\n      <td>9</td>\n      <td>11</td>\n      <td>1</td>\n      <td>6</td>\n      <td>1</td>\n      <td>1</td>\n      <td>3</td>\n      <td>2</td>\n      <td>-1</td>\n      <td>145.000000</td>\n    </tr>\n    <tr>\n      <th>197</th>\n      <td>2730</td>\n      <td>198</td>\n      <td>Dwight Howard</td>\n      <td>PHI</td>\n      <td>69</td>\n      <td>1196</td>\n      <td>178</td>\n      <td>303</td>\n      <td>5</td>\n      <td>20</td>\n      <td>...</td>\n      <td>390</td>\n      <td>580</td>\n      <td>61</td>\n      <td>30</td>\n      <td>62</td>\n      <td>112</td>\n      <td>125</td>\n      <td>15</td>\n      <td>-89</td>\n      <td>146.446488</td>\n    </tr>\n    <tr>\n      <th>18</th>\n      <td>201566</td>\n      <td>19</td>\n      <td>Russell Westbrook</td>\n      <td>WAS</td>\n      <td>65</td>\n      <td>2369</td>\n      <td>544</td>\n      <td>1238</td>\n      <td>86</td>\n      <td>273</td>\n      <td>...</td>\n      <td>641</td>\n      <td>750</td>\n      <td>763</td>\n      <td>89</td>\n      <td>23</td>\n      <td>312</td>\n      <td>694</td>\n      <td>187</td>\n      <td>-142</td>\n      <td>151.097509</td>\n    </tr>\n    <tr>\n      <th>2</th>\n      <td>203999</td>\n      <td>3</td>\n      <td>Nikola Jokic</td>\n      <td>DEN</td>\n      <td>72</td>\n      <td>2488</td>\n      <td>732</td>\n      <td>1293</td>\n      <td>92</td>\n      <td>237</td>\n      <td>...</td>\n      <td>575</td>\n      <td>780</td>\n      <td>599</td>\n      <td>95</td>\n      <td>48</td>\n      <td>222</td>\n      <td>561</td>\n      <td>145</td>\n      <td>-52</td>\n      <td>151.225884</td>\n    </tr>\n    <tr>\n      <th>5</th>\n      <td>203507</td>\n      <td>6</td>\n      <td>Giannis Antetokounmpo</td>\n      <td>MIL</td>\n      <td>61</td>\n      <td>2013</td>\n      <td>626</td>\n      <td>1100</td>\n      <td>67</td>\n      <td>221</td>\n      <td>...</td>\n      <td>574</td>\n      <td>671</td>\n      <td>357</td>\n      <td>72</td>\n      <td>73</td>\n      <td>207</td>\n      <td>474</td>\n      <td>154</td>\n      <td>-183</td>\n      <td>155.042226</td>\n    </tr>\n  </tbody>\n</table>\n<p>540 rows × 23 columns</p>\n</div>"
     },
     "metadata": {},
     "execution_count": 7
    }
   ],
   "source": [
    "# Adding 'Missed Throws' Colums\n",
    "df_players['TOTAL_THROWS_MISSED'] = df_players['TOTAL_THROWS_ATTEMPTS'] - df_players['TOTAL_THROWS_SCORED']\n",
    "df_players['THREE_THROWS_MISSED'] = df_players['THREE_THROWS_ATTEMPTS'] - df_players['THREE_THROWS_SCORED']\n",
    "df_players['FREE_THROWS_MISSED'] = df_players['FREE_THROWS_SCORED'] - df_players['FREE_THROWS_ATTEMPTS']\n",
    "\n",
    "\n",
    "# Calculating Score\n",
    "df_players['TOTAL_SCORE'] = calculate_player_score(df_players)\n",
    "\n",
    "# Displaying Dataset\n",
    "df_players.sort_values('TOTAL_SCORE')"
   ]
  },
  {
   "cell_type": "markdown",
   "metadata": {},
   "source": [
    "GAMES DATA"
   ]
  },
  {
   "cell_type": "code",
   "execution_count": 8,
   "metadata": {},
   "outputs": [
    {
     "output_type": "stream",
     "name": "stdout",
     "text": [
      "\nGames Data:\n\n ####################\n\nColumns before data handling\n\n ----- > ['GAME_DATE_EST', 'GAME_SEQUENCE', 'GAME_ID', 'TEAM_ID', 'TEAM_ABBREVIATION', 'TEAM_CITY_NAME', 'TEAM_NAME', 'TEAM_WINS', 'TEAM_LOSSES', 'PTS_QTR1', 'PTS_QTR2', 'PTS_QTR3', 'PTS_QTR4', 'PTS_OT1', 'PTS_OT2', 'PTS_OT3', 'PTS_OT4', 'PTS_OT5', 'PTS_OT6', 'PTS_OT7', 'PTS_OT8', 'PTS_OT9', 'PTS_OT10', 'PTS', 'FG_PCT', 'FT_PCT', 'FG3_PCT', 'AST', 'REB', 'TOV']\n"
     ]
    }
   ],
   "source": [
    "#Loading data \n",
    "df_games = pd.read_csv('./nba-scores.csv')\n",
    "\n",
    "#Printing columns\n",
    "print('\\nGames Data:')\n",
    "print('\\n','#' * 20)\n",
    "print(\"\\nColumns before data handling\")\n",
    "print('\\n','-' * 5,'>', list(df_games.columns))"
   ]
  },
  {
   "cell_type": "code",
   "execution_count": 9,
   "metadata": {},
   "outputs": [],
   "source": [
    "#Removing unnecessary columns\n",
    "remove_col_games = ['GAME_SEQUENCE','PTS_OT3','PTS_OT4','PTS_OT5','PTS_OT6','PTS_OT7','PTS_OT8','PTS_OT9','PTS_OT10']\n",
    "df_games = df_games.drop(remove_col_games, axis = 1)\n",
    "\n",
    "\n",
    "\n",
    "change_name_games = {\n",
    "    'GAME_DATE_EST':'DATE',\n",
    "    'TEAM_ABBREVIATION':'TEAM', \n",
    "    'TEAM_CITY_NAME':'CITY',\n",
    "    'PTS_QTR1':'POINTS_Q1', \n",
    "    'PTS_QTR2':'POINTS_Q2', \n",
    "    'PTS_QTR3':'POINTS_Q3', \n",
    "    'PTS_QTR4':'POINTS_Q4', \n",
    "    'PTS':'TOTAL_POINTS', \n",
    "    'PTS_OT1':'OVERTIME1_POINTS', \n",
    "    'PTS_OT2':'OVERTIME2_POINTS'}\n",
    "\n",
    "df_games = df_games.rename(columns = change_name_games)"
   ]
  },
  {
   "cell_type": "code",
   "execution_count": 10,
   "metadata": {},
   "outputs": [
    {
     "output_type": "execute_result",
     "data": {
      "text/plain": [
       "73.61713678064152"
      ]
     },
     "metadata": {},
     "execution_count": 10
    }
   ],
   "source": [
    "df_players['TOTAL_SCORE'].mean()"
   ]
  },
  {
   "cell_type": "markdown",
   "metadata": {},
   "source": [
    "NEW TABLES"
   ]
  },
  {
   "cell_type": "code",
   "execution_count": 11,
   "metadata": {},
   "outputs": [],
   "source": [
    "# Lets create new df of nba teams\n",
    "\n",
    "def calculate_team_total_score(team_name):\n",
    "    team_players = df_players.loc[df_players['TEAM'] == team_name]\n",
    "    return team_players['TOTAL_SCORE'].mean()\n",
    "\n",
    "team_names = df_players['TEAM'].unique()\n",
    "total_scores = []\n",
    "for team in team_names:\n",
    "    total_scores.append(calculate_team_total_score(team))\n",
    "\n",
    "df_teams = pd.DataFrame(columns=['TEAM_NAME','TEAM_ID','TOTAL_TEAM_SCORE'])\n",
    "df_teams['TEAM_NAME'] = team_names\n",
    "df_teams['TEAM_ID'] = range(1,len(team_names)+1)\n",
    "df_teams['TOTAL_TEAM_SCORE'] = total_scores\n",
    "\n"
   ]
  },
  {
   "cell_type": "code",
   "execution_count": 12,
   "metadata": {},
   "outputs": [],
   "source": [
    "df_games_united = pd.DataFrame(columns=['DATE','GAME_ID','TEAM_A','TEAM_A_ID','TEAM_A_SCORE','TEAM_B','TEAM_B_ID','TEAM_B_SCORE','TEAM_A_POINTS','TEAM_B_POINTS'])\n",
    "unique_games_id = df_games['GAME_ID'].unique()"
   ]
  },
  {
   "cell_type": "code",
   "execution_count": 13,
   "metadata": {},
   "outputs": [],
   "source": [
    "def unite_game_rows(game_id):\n",
    "    games = df_games.loc[df_games['GAME_ID'] == game_id]\n",
    "    #print(f\"working on {game_id}\")\n",
    "    \n",
    "    DATE = games.iloc[0]['DATE']\n",
    "    GAME_ID = game_id\n",
    "    \n",
    "    TEAM_A = games.iloc[0]['TEAM']\n",
    "    TEAM_A_ID = int(df_teams.loc[df_teams['TEAM_NAME'] == TEAM_A]['TEAM_ID'])\n",
    "    TEAM_A_SCORE = float(df_teams.loc[df_teams['TEAM_NAME'] == TEAM_A]['TOTAL_TEAM_SCORE'])\n",
    "    TEAM_A_POINTS = games.iloc[0]['TOTAL_POINTS']\n",
    "\n",
    "    TEAM_B = games.iloc[1]['TEAM']\n",
    "    TEAM_B_ID = int(df_teams.loc[df_teams['TEAM_NAME'] == TEAM_B]['TEAM_ID'])\n",
    "    TEAM_B_SCORE = float(df_teams.loc[df_teams['TEAM_NAME'] == TEAM_B]['TOTAL_TEAM_SCORE'])\n",
    "    TEAM_B_POINTS = games.iloc[1]['TOTAL_POINTS']\n",
    "    \n",
    "    return pd.Series([DATE,GAME_ID,TEAM_A,TEAM_A_ID,TEAM_A_SCORE,TEAM_B,TEAM_B_ID,TEAM_B_SCORE,TEAM_A_POINTS,TEAM_B_POINTS], index = df_games_united.columns)\n",
    "\n",
    "\n",
    "unique_games_ids = df_games['GAME_ID'].unique()\n",
    "for game_id in unique_games_ids:\n",
    "    row = unite_game_rows(game_id)    \n",
    "    df_games_united = df_games_united.append(row, ignore_index=True)    "
   ]
  },
  {
   "cell_type": "code",
   "execution_count": 23,
   "metadata": {},
   "outputs": [
    {
     "output_type": "stream",
     "name": "stdout",
     "text": [
      "GSW : 56/142\n",
      "POR : 82/165\n",
      "DEN : 109/180\n",
      "WAS : 62/157\n",
      "DAL : 94/166\n",
      "MIL : 117/172\n",
      "PHX : 97/164\n",
      "NYK : 66/147\n",
      "BOS : 97/172\n",
      "NOP : 66/149\n",
      "CHI : 56/141\n",
      "ATL : 71/155\n",
      "SAC : 65/151\n",
      "CLE : 43/141\n",
      "PHI : 102/166\n",
      "BKN : 93/165\n",
      "CHA : 57/142\n",
      "UTA : 110/168\n",
      "MIN : 43/139\n",
      "SAS : 66/150\n",
      "LAC : 113/178\n",
      "IND : 82/157\n",
      "DET : 42/142\n",
      "MEM : 79/160\n",
      "MIA : 100/175\n",
      "TOR : 91/161\n",
      "LAL : 119/178\n",
      "HOU : 71/163\n",
      "OKC : 73/157\n",
      "ORL : 58/157\n"
     ]
    }
   ],
   "source": [
    "#Adding win_ratio to the team dataframe\n",
    "win_ratio_array = []\n",
    "for team in df_teams['TEAM_NAME']:\n",
    "    query = f\"TEAM_A == '{team}' or TEAM_B == '{team}'\"\n",
    "    team_games = df_games_united.query(query)\n",
    "    win_count = 0\n",
    "    for row in team_games.iterrows():\n",
    "        if row[1]['TEAM_A'] == team and row[1]['TEAM_A_POINTS'] > row[1]['TEAM_B_POINTS']:\n",
    "                win_count = win_count + 1\n",
    "        elif row[1]['TEAM_B'] == team and row[1]['TEAM_A_POINTS'] < row[1]['TEAM_B_POINTS']:\n",
    "                win_count = win_count + 1\n",
    "\n",
    "    print(f\"{team} : {win_count}/{team_games.shape[0]}\")\n",
    "    win_ratio_array.append(win_count/team_games.shape[0])\n",
    "\n",
    "df_teams['WIN_RATIO'] = win_ratio_array"
   ]
  },
  {
   "cell_type": "code",
   "execution_count": 24,
   "metadata": {},
   "outputs": [
    {
     "output_type": "execute_result",
     "data": {
      "text/plain": [
       "   TEAM_NAME  TEAM_ID  TOTAL_TEAM_SCORE  WIN_RATIO\n",
       "0        GSW        1         85.100871   0.394366\n",
       "1        POR        2         77.225285   0.496970\n",
       "2        DEN        3         66.692896   0.605556\n",
       "3        WAS        4         72.563369   0.394904\n",
       "4        DAL        5         69.965595   0.566265\n",
       "5        MIL        6         73.420374   0.680233\n",
       "6        PHX        7         73.107778   0.591463\n",
       "7        NYK        8         66.012107   0.448980\n",
       "8        BOS        9         80.303052   0.563953\n",
       "9        NOP       10         64.015418   0.442953\n",
       "10       CHI       11         73.896496   0.397163\n",
       "11       ATL       12         74.175677   0.458065\n",
       "12       SAC       13         79.271891   0.430464\n",
       "13       CLE       14         74.998370   0.304965\n",
       "14       PHI       15         71.085154   0.614458\n",
       "15       BKN       16         74.287874   0.563636\n",
       "16       CHA       17         72.331786   0.401408\n",
       "17       UTA       18         75.414780   0.654762\n",
       "18       MIN       19         73.831378   0.309353\n",
       "19       SAS       20         73.600570   0.440000\n",
       "20       LAC       21         77.637377   0.634831\n",
       "21       IND       22         74.117156   0.522293\n",
       "22       DET       23         73.043957   0.295775\n",
       "23       MEM       24         76.885312   0.493750\n",
       "24       MIA       25         79.331900   0.571429\n",
       "25       TOR       26         73.806966   0.565217\n",
       "26       LAL       27         82.805261   0.668539\n",
       "27       HOU       28         67.112163   0.435583\n",
       "28       OKC       29         68.154076   0.464968\n",
       "29       ORL       30         67.977461   0.369427"
      ],
      "text/html": "<div>\n<style scoped>\n    .dataframe tbody tr th:only-of-type {\n        vertical-align: middle;\n    }\n\n    .dataframe tbody tr th {\n        vertical-align: top;\n    }\n\n    .dataframe thead th {\n        text-align: right;\n    }\n</style>\n<table border=\"1\" class=\"dataframe\">\n  <thead>\n    <tr style=\"text-align: right;\">\n      <th></th>\n      <th>TEAM_NAME</th>\n      <th>TEAM_ID</th>\n      <th>TOTAL_TEAM_SCORE</th>\n      <th>WIN_RATIO</th>\n    </tr>\n  </thead>\n  <tbody>\n    <tr>\n      <th>0</th>\n      <td>GSW</td>\n      <td>1</td>\n      <td>85.100871</td>\n      <td>0.394366</td>\n    </tr>\n    <tr>\n      <th>1</th>\n      <td>POR</td>\n      <td>2</td>\n      <td>77.225285</td>\n      <td>0.496970</td>\n    </tr>\n    <tr>\n      <th>2</th>\n      <td>DEN</td>\n      <td>3</td>\n      <td>66.692896</td>\n      <td>0.605556</td>\n    </tr>\n    <tr>\n      <th>3</th>\n      <td>WAS</td>\n      <td>4</td>\n      <td>72.563369</td>\n      <td>0.394904</td>\n    </tr>\n    <tr>\n      <th>4</th>\n      <td>DAL</td>\n      <td>5</td>\n      <td>69.965595</td>\n      <td>0.566265</td>\n    </tr>\n    <tr>\n      <th>5</th>\n      <td>MIL</td>\n      <td>6</td>\n      <td>73.420374</td>\n      <td>0.680233</td>\n    </tr>\n    <tr>\n      <th>6</th>\n      <td>PHX</td>\n      <td>7</td>\n      <td>73.107778</td>\n      <td>0.591463</td>\n    </tr>\n    <tr>\n      <th>7</th>\n      <td>NYK</td>\n      <td>8</td>\n      <td>66.012107</td>\n      <td>0.448980</td>\n    </tr>\n    <tr>\n      <th>8</th>\n      <td>BOS</td>\n      <td>9</td>\n      <td>80.303052</td>\n      <td>0.563953</td>\n    </tr>\n    <tr>\n      <th>9</th>\n      <td>NOP</td>\n      <td>10</td>\n      <td>64.015418</td>\n      <td>0.442953</td>\n    </tr>\n    <tr>\n      <th>10</th>\n      <td>CHI</td>\n      <td>11</td>\n      <td>73.896496</td>\n      <td>0.397163</td>\n    </tr>\n    <tr>\n      <th>11</th>\n      <td>ATL</td>\n      <td>12</td>\n      <td>74.175677</td>\n      <td>0.458065</td>\n    </tr>\n    <tr>\n      <th>12</th>\n      <td>SAC</td>\n      <td>13</td>\n      <td>79.271891</td>\n      <td>0.430464</td>\n    </tr>\n    <tr>\n      <th>13</th>\n      <td>CLE</td>\n      <td>14</td>\n      <td>74.998370</td>\n      <td>0.304965</td>\n    </tr>\n    <tr>\n      <th>14</th>\n      <td>PHI</td>\n      <td>15</td>\n      <td>71.085154</td>\n      <td>0.614458</td>\n    </tr>\n    <tr>\n      <th>15</th>\n      <td>BKN</td>\n      <td>16</td>\n      <td>74.287874</td>\n      <td>0.563636</td>\n    </tr>\n    <tr>\n      <th>16</th>\n      <td>CHA</td>\n      <td>17</td>\n      <td>72.331786</td>\n      <td>0.401408</td>\n    </tr>\n    <tr>\n      <th>17</th>\n      <td>UTA</td>\n      <td>18</td>\n      <td>75.414780</td>\n      <td>0.654762</td>\n    </tr>\n    <tr>\n      <th>18</th>\n      <td>MIN</td>\n      <td>19</td>\n      <td>73.831378</td>\n      <td>0.309353</td>\n    </tr>\n    <tr>\n      <th>19</th>\n      <td>SAS</td>\n      <td>20</td>\n      <td>73.600570</td>\n      <td>0.440000</td>\n    </tr>\n    <tr>\n      <th>20</th>\n      <td>LAC</td>\n      <td>21</td>\n      <td>77.637377</td>\n      <td>0.634831</td>\n    </tr>\n    <tr>\n      <th>21</th>\n      <td>IND</td>\n      <td>22</td>\n      <td>74.117156</td>\n      <td>0.522293</td>\n    </tr>\n    <tr>\n      <th>22</th>\n      <td>DET</td>\n      <td>23</td>\n      <td>73.043957</td>\n      <td>0.295775</td>\n    </tr>\n    <tr>\n      <th>23</th>\n      <td>MEM</td>\n      <td>24</td>\n      <td>76.885312</td>\n      <td>0.493750</td>\n    </tr>\n    <tr>\n      <th>24</th>\n      <td>MIA</td>\n      <td>25</td>\n      <td>79.331900</td>\n      <td>0.571429</td>\n    </tr>\n    <tr>\n      <th>25</th>\n      <td>TOR</td>\n      <td>26</td>\n      <td>73.806966</td>\n      <td>0.565217</td>\n    </tr>\n    <tr>\n      <th>26</th>\n      <td>LAL</td>\n      <td>27</td>\n      <td>82.805261</td>\n      <td>0.668539</td>\n    </tr>\n    <tr>\n      <th>27</th>\n      <td>HOU</td>\n      <td>28</td>\n      <td>67.112163</td>\n      <td>0.435583</td>\n    </tr>\n    <tr>\n      <th>28</th>\n      <td>OKC</td>\n      <td>29</td>\n      <td>68.154076</td>\n      <td>0.464968</td>\n    </tr>\n    <tr>\n      <th>29</th>\n      <td>ORL</td>\n      <td>30</td>\n      <td>67.977461</td>\n      <td>0.369427</td>\n    </tr>\n  </tbody>\n</table>\n</div>"
     },
     "metadata": {},
     "execution_count": 24
    }
   ],
   "source": [
    "df_teams"
   ]
  },
  {
   "cell_type": "code",
   "execution_count": 25,
   "metadata": {},
   "outputs": [
    {
     "output_type": "execute_result",
     "data": {
      "text/plain": [
       "            DATE   GAME_ID TEAM_A TEAM_A_ID  TEAM_A_SCORE TEAM_B TEAM_B_ID  \\\n",
       "0     22/10/2019  21900001    NOP        10     64.015418    TOR        26   \n",
       "1     22/10/2019  21900002    LAL        27     82.805261    LAC        21   \n",
       "2     23/10/2019  21900003    CHI        11     73.896496    CHA        17   \n",
       "3     23/10/2019  21900004    DET        23     73.043957    IND        22   \n",
       "4     23/10/2019  21900005    CLE        14     74.998370    ORL        30   \n",
       "...          ...       ...    ...       ...           ...    ...       ...   \n",
       "2375  18/06/2021  42000226    UTA        18     75.414780    LAC        21   \n",
       "2376  19/06/2021  42000217    MIL         6     73.420374    BKN        16   \n",
       "2377  20/06/2021  42000311    LAC        21     77.637377    PHX         7   \n",
       "2378  20/06/2021  42000207    ATL        12     74.175677    PHI        15   \n",
       "2379  22/06/2021  42000312    LAC        21     77.637377    PHX         7   \n",
       "\n",
       "      TEAM_B_SCORE TEAM_A_POINTS TEAM_B_POINTS  TEAM_A_WIN_RATIO  \\\n",
       "0        73.806966           122           130          0.442953   \n",
       "1        77.637377           102           112          0.668539   \n",
       "2        72.331786           125           126          0.397163   \n",
       "3        74.117156           119           110          0.295775   \n",
       "4        67.977461            85            94          0.304965   \n",
       "...            ...           ...           ...               ...   \n",
       "2375     77.637377           119           131          0.654762   \n",
       "2376     74.287874           115           111          0.680233   \n",
       "2377     73.107778           114           120          0.634831   \n",
       "2378     71.085154           103            96          0.458065   \n",
       "2379     73.107778           103           104          0.634831   \n",
       "\n",
       "      TEAM_B_WIN_RATIO  \n",
       "0             0.565217  \n",
       "1             0.634831  \n",
       "2             0.401408  \n",
       "3             0.522293  \n",
       "4             0.369427  \n",
       "...                ...  \n",
       "2375          0.634831  \n",
       "2376          0.563636  \n",
       "2377          0.591463  \n",
       "2378          0.614458  \n",
       "2379          0.591463  \n",
       "\n",
       "[2380 rows x 12 columns]"
      ],
      "text/html": "<div>\n<style scoped>\n    .dataframe tbody tr th:only-of-type {\n        vertical-align: middle;\n    }\n\n    .dataframe tbody tr th {\n        vertical-align: top;\n    }\n\n    .dataframe thead th {\n        text-align: right;\n    }\n</style>\n<table border=\"1\" class=\"dataframe\">\n  <thead>\n    <tr style=\"text-align: right;\">\n      <th></th>\n      <th>DATE</th>\n      <th>GAME_ID</th>\n      <th>TEAM_A</th>\n      <th>TEAM_A_ID</th>\n      <th>TEAM_A_SCORE</th>\n      <th>TEAM_B</th>\n      <th>TEAM_B_ID</th>\n      <th>TEAM_B_SCORE</th>\n      <th>TEAM_A_POINTS</th>\n      <th>TEAM_B_POINTS</th>\n      <th>TEAM_A_WIN_RATIO</th>\n      <th>TEAM_B_WIN_RATIO</th>\n    </tr>\n  </thead>\n  <tbody>\n    <tr>\n      <th>0</th>\n      <td>22/10/2019</td>\n      <td>21900001</td>\n      <td>NOP</td>\n      <td>10</td>\n      <td>64.015418</td>\n      <td>TOR</td>\n      <td>26</td>\n      <td>73.806966</td>\n      <td>122</td>\n      <td>130</td>\n      <td>0.442953</td>\n      <td>0.565217</td>\n    </tr>\n    <tr>\n      <th>1</th>\n      <td>22/10/2019</td>\n      <td>21900002</td>\n      <td>LAL</td>\n      <td>27</td>\n      <td>82.805261</td>\n      <td>LAC</td>\n      <td>21</td>\n      <td>77.637377</td>\n      <td>102</td>\n      <td>112</td>\n      <td>0.668539</td>\n      <td>0.634831</td>\n    </tr>\n    <tr>\n      <th>2</th>\n      <td>23/10/2019</td>\n      <td>21900003</td>\n      <td>CHI</td>\n      <td>11</td>\n      <td>73.896496</td>\n      <td>CHA</td>\n      <td>17</td>\n      <td>72.331786</td>\n      <td>125</td>\n      <td>126</td>\n      <td>0.397163</td>\n      <td>0.401408</td>\n    </tr>\n    <tr>\n      <th>3</th>\n      <td>23/10/2019</td>\n      <td>21900004</td>\n      <td>DET</td>\n      <td>23</td>\n      <td>73.043957</td>\n      <td>IND</td>\n      <td>22</td>\n      <td>74.117156</td>\n      <td>119</td>\n      <td>110</td>\n      <td>0.295775</td>\n      <td>0.522293</td>\n    </tr>\n    <tr>\n      <th>4</th>\n      <td>23/10/2019</td>\n      <td>21900005</td>\n      <td>CLE</td>\n      <td>14</td>\n      <td>74.998370</td>\n      <td>ORL</td>\n      <td>30</td>\n      <td>67.977461</td>\n      <td>85</td>\n      <td>94</td>\n      <td>0.304965</td>\n      <td>0.369427</td>\n    </tr>\n    <tr>\n      <th>...</th>\n      <td>...</td>\n      <td>...</td>\n      <td>...</td>\n      <td>...</td>\n      <td>...</td>\n      <td>...</td>\n      <td>...</td>\n      <td>...</td>\n      <td>...</td>\n      <td>...</td>\n      <td>...</td>\n      <td>...</td>\n    </tr>\n    <tr>\n      <th>2375</th>\n      <td>18/06/2021</td>\n      <td>42000226</td>\n      <td>UTA</td>\n      <td>18</td>\n      <td>75.414780</td>\n      <td>LAC</td>\n      <td>21</td>\n      <td>77.637377</td>\n      <td>119</td>\n      <td>131</td>\n      <td>0.654762</td>\n      <td>0.634831</td>\n    </tr>\n    <tr>\n      <th>2376</th>\n      <td>19/06/2021</td>\n      <td>42000217</td>\n      <td>MIL</td>\n      <td>6</td>\n      <td>73.420374</td>\n      <td>BKN</td>\n      <td>16</td>\n      <td>74.287874</td>\n      <td>115</td>\n      <td>111</td>\n      <td>0.680233</td>\n      <td>0.563636</td>\n    </tr>\n    <tr>\n      <th>2377</th>\n      <td>20/06/2021</td>\n      <td>42000311</td>\n      <td>LAC</td>\n      <td>21</td>\n      <td>77.637377</td>\n      <td>PHX</td>\n      <td>7</td>\n      <td>73.107778</td>\n      <td>114</td>\n      <td>120</td>\n      <td>0.634831</td>\n      <td>0.591463</td>\n    </tr>\n    <tr>\n      <th>2378</th>\n      <td>20/06/2021</td>\n      <td>42000207</td>\n      <td>ATL</td>\n      <td>12</td>\n      <td>74.175677</td>\n      <td>PHI</td>\n      <td>15</td>\n      <td>71.085154</td>\n      <td>103</td>\n      <td>96</td>\n      <td>0.458065</td>\n      <td>0.614458</td>\n    </tr>\n    <tr>\n      <th>2379</th>\n      <td>22/06/2021</td>\n      <td>42000312</td>\n      <td>LAC</td>\n      <td>21</td>\n      <td>77.637377</td>\n      <td>PHX</td>\n      <td>7</td>\n      <td>73.107778</td>\n      <td>103</td>\n      <td>104</td>\n      <td>0.634831</td>\n      <td>0.591463</td>\n    </tr>\n  </tbody>\n</table>\n<p>2380 rows × 12 columns</p>\n</div>"
     },
     "metadata": {},
     "execution_count": 25
    }
   ],
   "source": [
    "team_a_ratios = []\n",
    "team_b_ratios = []\n",
    "for game in df_games_united.iterrows():\n",
    "    team_a_ratios.append(df_teams.loc[df_teams['TEAM_NAME'] == game[1]['TEAM_A']].iloc[0]['WIN_RATIO'])\n",
    "    team_b_ratios.append(df_teams.loc[df_teams['TEAM_NAME'] == game[1]['TEAM_B']].iloc[0]['WIN_RATIO'])\n",
    "\n",
    "df_games_united['TEAM_A_WIN_RATIO'] = team_a_ratios\n",
    "df_games_united['TEAM_B_WIN_RATIO'] = team_b_ratios\n",
    "\n",
    "df_games_united\n"
   ]
  },
  {
   "cell_type": "code",
   "execution_count": 14,
   "metadata": {},
   "outputs": [
    {
     "output_type": "stream",
     "name": "stdout",
     "text": [
      "\nShape of players data:\n\n ---------- (540, 23)\n\nShape of games data:\n\n ---------- (4760, 21)\n\nShape of teams data:\n\n ---------- (30, 3)\n\nShape of games united data:\n\n ---------- (2380, 10)\n"
     ]
    }
   ],
   "source": [
    "#Data shape\n",
    "print('\\nShape of players data:')\n",
    "print('\\n','-' * 10,df_players.shape)\n",
    "print('\\nShape of games data:')\n",
    "print('\\n','-' * 10,df_games.shape)\n",
    "print('\\nShape of teams data:')\n",
    "print('\\n','-' * 10,df_teams.shape)\n",
    "print('\\nShape of games united data:')\n",
    "print('\\n','-' * 10,df_games_united.shape)"
   ]
  },
  {
   "cell_type": "code",
   "execution_count": 15,
   "metadata": {},
   "outputs": [],
   "source": [
    "#Export\n",
    "df_players.to_csv('./player-data.csv',index=False)\n",
    "df_games.to_csv('./games-data.csv',index=False)\n",
    "df_teams.to_csv('./teams-data.csv',index=False)\n",
    "df_games_united.to_csv('./games-united.csv',index=False)"
   ]
  },
  {
   "cell_type": "markdown",
   "metadata": {},
   "source": [
    "SHOW DATA"
   ]
  },
  {
   "cell_type": "code",
   "execution_count": 16,
   "metadata": {},
   "outputs": [
    {
     "output_type": "execute_result",
     "data": {
      "text/plain": [
       "     PLAYER_ID  RANK            PLAYER TEAM  GAMES_PLAYED  MINUTES_PLAYED  \\\n",
       "0       201939     1     Stephen Curry  GSW            63            2152   \n",
       "1       203081     2    Damian Lillard  POR            67            2398   \n",
       "2       203999     3      Nikola Jokic  DEN            72            2488   \n",
       "3       203078     4      Bradley Beal  WAS            60            2147   \n",
       "4      1629029     5       Luka Doncic  DAL            66            2262   \n",
       "..         ...   ...               ...  ...           ...             ...   \n",
       "535    1628394   536  Anzejs Pasecniks  WAS             1               6   \n",
       "536    1630204   536     Ashton Hagans  MIN             2               4   \n",
       "537     204222   536  Greg Whittington  DEN             4              12   \n",
       "538     203943   536       Noah Vonleh  BKN             4              11   \n",
       "539    1630266   536       Will Magnay  NOP             1               3   \n",
       "\n",
       "     TOTAL_THROWS_SCORED  TOTAL_THROWS_ATTEMPTS  THREE_THROWS_SCORED  \\\n",
       "0                    658                   1365                  337   \n",
       "1                    602                   1334                  275   \n",
       "2                    732                   1293                   92   \n",
       "3                    670                   1382                  130   \n",
       "4                    647                   1351                  192   \n",
       "..                   ...                    ...                  ...   \n",
       "535                    0                      1                    0   \n",
       "536                    0                      0                    0   \n",
       "537                    0                      3                    0   \n",
       "538                    0                      3                    0   \n",
       "539                    0                      1                    0   \n",
       "\n",
       "     THREE_THROWS_ATTEMPTS  ...  DEFFENSIVE_REBOUNDS  REB  ASSISTS  STEALS  \\\n",
       "0                      801  ...                  316  345      363      77   \n",
       "1                      704  ...                  251  283      505      62   \n",
       "2                      237  ...                  575  780      599      95   \n",
       "3                      373  ...                  211  283      265      69   \n",
       "4                      548  ...                  473  527      567      64   \n",
       "..                     ...  ...                  ...  ...      ...     ...   \n",
       "535                      1  ...                    0    1        1       0   \n",
       "536                      0  ...                    0    0        0       0   \n",
       "537                      2  ...                    0    0        0       0   \n",
       "538                      2  ...                    1    1        1       0   \n",
       "539                      1  ...                    0    0        0       0   \n",
       "\n",
       "     BLOCKS  TOV  TOTAL_THROWS_MISSED  THREE_THROWS_MISSED  \\\n",
       "0         8  213                  707                  464   \n",
       "1        17  203                  732                  429   \n",
       "2        48  222                  561                  145   \n",
       "3        22  187                  712                  243   \n",
       "4        36  281                  704                  356   \n",
       "..      ...  ...                  ...                  ...   \n",
       "535       0    5                    1                    1   \n",
       "536       0    1                    0                    0   \n",
       "537       0    0                    3                    2   \n",
       "538       0    2                    3                    2   \n",
       "539       0    1                    1                    1   \n",
       "\n",
       "     FREE_THROWS_MISSED  TOTAL_SCORE  \n",
       "0                   -33   107.992565  \n",
       "1                   -35    97.226856  \n",
       "2                   -52   151.225884  \n",
       "3                   -51    83.348859  \n",
       "4                  -127   128.558798  \n",
       "..                  ...          ...  \n",
       "535                   0    25.000000  \n",
       "536                   0     0.000000  \n",
       "537                   0   -50.000000  \n",
       "538                   0   -18.181818  \n",
       "539                   0   -83.333333  \n",
       "\n",
       "[540 rows x 23 columns]"
      ],
      "text/html": "<div>\n<style scoped>\n    .dataframe tbody tr th:only-of-type {\n        vertical-align: middle;\n    }\n\n    .dataframe tbody tr th {\n        vertical-align: top;\n    }\n\n    .dataframe thead th {\n        text-align: right;\n    }\n</style>\n<table border=\"1\" class=\"dataframe\">\n  <thead>\n    <tr style=\"text-align: right;\">\n      <th></th>\n      <th>PLAYER_ID</th>\n      <th>RANK</th>\n      <th>PLAYER</th>\n      <th>TEAM</th>\n      <th>GAMES_PLAYED</th>\n      <th>MINUTES_PLAYED</th>\n      <th>TOTAL_THROWS_SCORED</th>\n      <th>TOTAL_THROWS_ATTEMPTS</th>\n      <th>THREE_THROWS_SCORED</th>\n      <th>THREE_THROWS_ATTEMPTS</th>\n      <th>...</th>\n      <th>DEFFENSIVE_REBOUNDS</th>\n      <th>REB</th>\n      <th>ASSISTS</th>\n      <th>STEALS</th>\n      <th>BLOCKS</th>\n      <th>TOV</th>\n      <th>TOTAL_THROWS_MISSED</th>\n      <th>THREE_THROWS_MISSED</th>\n      <th>FREE_THROWS_MISSED</th>\n      <th>TOTAL_SCORE</th>\n    </tr>\n  </thead>\n  <tbody>\n    <tr>\n      <th>0</th>\n      <td>201939</td>\n      <td>1</td>\n      <td>Stephen Curry</td>\n      <td>GSW</td>\n      <td>63</td>\n      <td>2152</td>\n      <td>658</td>\n      <td>1365</td>\n      <td>337</td>\n      <td>801</td>\n      <td>...</td>\n      <td>316</td>\n      <td>345</td>\n      <td>363</td>\n      <td>77</td>\n      <td>8</td>\n      <td>213</td>\n      <td>707</td>\n      <td>464</td>\n      <td>-33</td>\n      <td>107.992565</td>\n    </tr>\n    <tr>\n      <th>1</th>\n      <td>203081</td>\n      <td>2</td>\n      <td>Damian Lillard</td>\n      <td>POR</td>\n      <td>67</td>\n      <td>2398</td>\n      <td>602</td>\n      <td>1334</td>\n      <td>275</td>\n      <td>704</td>\n      <td>...</td>\n      <td>251</td>\n      <td>283</td>\n      <td>505</td>\n      <td>62</td>\n      <td>17</td>\n      <td>203</td>\n      <td>732</td>\n      <td>429</td>\n      <td>-35</td>\n      <td>97.226856</td>\n    </tr>\n    <tr>\n      <th>2</th>\n      <td>203999</td>\n      <td>3</td>\n      <td>Nikola Jokic</td>\n      <td>DEN</td>\n      <td>72</td>\n      <td>2488</td>\n      <td>732</td>\n      <td>1293</td>\n      <td>92</td>\n      <td>237</td>\n      <td>...</td>\n      <td>575</td>\n      <td>780</td>\n      <td>599</td>\n      <td>95</td>\n      <td>48</td>\n      <td>222</td>\n      <td>561</td>\n      <td>145</td>\n      <td>-52</td>\n      <td>151.225884</td>\n    </tr>\n    <tr>\n      <th>3</th>\n      <td>203078</td>\n      <td>4</td>\n      <td>Bradley Beal</td>\n      <td>WAS</td>\n      <td>60</td>\n      <td>2147</td>\n      <td>670</td>\n      <td>1382</td>\n      <td>130</td>\n      <td>373</td>\n      <td>...</td>\n      <td>211</td>\n      <td>283</td>\n      <td>265</td>\n      <td>69</td>\n      <td>22</td>\n      <td>187</td>\n      <td>712</td>\n      <td>243</td>\n      <td>-51</td>\n      <td>83.348859</td>\n    </tr>\n    <tr>\n      <th>4</th>\n      <td>1629029</td>\n      <td>5</td>\n      <td>Luka Doncic</td>\n      <td>DAL</td>\n      <td>66</td>\n      <td>2262</td>\n      <td>647</td>\n      <td>1351</td>\n      <td>192</td>\n      <td>548</td>\n      <td>...</td>\n      <td>473</td>\n      <td>527</td>\n      <td>567</td>\n      <td>64</td>\n      <td>36</td>\n      <td>281</td>\n      <td>704</td>\n      <td>356</td>\n      <td>-127</td>\n      <td>128.558798</td>\n    </tr>\n    <tr>\n      <th>...</th>\n      <td>...</td>\n      <td>...</td>\n      <td>...</td>\n      <td>...</td>\n      <td>...</td>\n      <td>...</td>\n      <td>...</td>\n      <td>...</td>\n      <td>...</td>\n      <td>...</td>\n      <td>...</td>\n      <td>...</td>\n      <td>...</td>\n      <td>...</td>\n      <td>...</td>\n      <td>...</td>\n      <td>...</td>\n      <td>...</td>\n      <td>...</td>\n      <td>...</td>\n      <td>...</td>\n    </tr>\n    <tr>\n      <th>535</th>\n      <td>1628394</td>\n      <td>536</td>\n      <td>Anzejs Pasecniks</td>\n      <td>WAS</td>\n      <td>1</td>\n      <td>6</td>\n      <td>0</td>\n      <td>1</td>\n      <td>0</td>\n      <td>1</td>\n      <td>...</td>\n      <td>0</td>\n      <td>1</td>\n      <td>1</td>\n      <td>0</td>\n      <td>0</td>\n      <td>5</td>\n      <td>1</td>\n      <td>1</td>\n      <td>0</td>\n      <td>25.000000</td>\n    </tr>\n    <tr>\n      <th>536</th>\n      <td>1630204</td>\n      <td>536</td>\n      <td>Ashton Hagans</td>\n      <td>MIN</td>\n      <td>2</td>\n      <td>4</td>\n      <td>0</td>\n      <td>0</td>\n      <td>0</td>\n      <td>0</td>\n      <td>...</td>\n      <td>0</td>\n      <td>0</td>\n      <td>0</td>\n      <td>0</td>\n      <td>0</td>\n      <td>1</td>\n      <td>0</td>\n      <td>0</td>\n      <td>0</td>\n      <td>0.000000</td>\n    </tr>\n    <tr>\n      <th>537</th>\n      <td>204222</td>\n      <td>536</td>\n      <td>Greg Whittington</td>\n      <td>DEN</td>\n      <td>4</td>\n      <td>12</td>\n      <td>0</td>\n      <td>3</td>\n      <td>0</td>\n      <td>2</td>\n      <td>...</td>\n      <td>0</td>\n      <td>0</td>\n      <td>0</td>\n      <td>0</td>\n      <td>0</td>\n      <td>0</td>\n      <td>3</td>\n      <td>2</td>\n      <td>0</td>\n      <td>-50.000000</td>\n    </tr>\n    <tr>\n      <th>538</th>\n      <td>203943</td>\n      <td>536</td>\n      <td>Noah Vonleh</td>\n      <td>BKN</td>\n      <td>4</td>\n      <td>11</td>\n      <td>0</td>\n      <td>3</td>\n      <td>0</td>\n      <td>2</td>\n      <td>...</td>\n      <td>1</td>\n      <td>1</td>\n      <td>1</td>\n      <td>0</td>\n      <td>0</td>\n      <td>2</td>\n      <td>3</td>\n      <td>2</td>\n      <td>0</td>\n      <td>-18.181818</td>\n    </tr>\n    <tr>\n      <th>539</th>\n      <td>1630266</td>\n      <td>536</td>\n      <td>Will Magnay</td>\n      <td>NOP</td>\n      <td>1</td>\n      <td>3</td>\n      <td>0</td>\n      <td>1</td>\n      <td>0</td>\n      <td>1</td>\n      <td>...</td>\n      <td>0</td>\n      <td>0</td>\n      <td>0</td>\n      <td>0</td>\n      <td>0</td>\n      <td>1</td>\n      <td>1</td>\n      <td>1</td>\n      <td>0</td>\n      <td>-83.333333</td>\n    </tr>\n  </tbody>\n</table>\n<p>540 rows × 23 columns</p>\n</div>"
     },
     "metadata": {},
     "execution_count": 16
    }
   ],
   "source": [
    "df_players"
   ]
  },
  {
   "cell_type": "code",
   "execution_count": 17,
   "metadata": {},
   "outputs": [
    {
     "output_type": "execute_result",
     "data": {
      "text/plain": [
       "            DATE   GAME_ID     TEAM_ID TEAM          CITY TEAM_NAME  \\\n",
       "0     22/10/2019  21900001  1610612740  NOP   New Orleans  Pelicans   \n",
       "1     22/10/2019  21900001  1610612761  TOR       Toronto   Raptors   \n",
       "2     22/10/2019  21900002  1610612747  LAL   Los Angeles    Lakers   \n",
       "3     22/10/2019  21900002  1610612746  LAC            LA  Clippers   \n",
       "4     23/10/2019  21900003  1610612741  CHI       Chicago     Bulls   \n",
       "...          ...       ...         ...  ...           ...       ...   \n",
       "4755  20/06/2021  42000311  1610612756  PHX       Phoenix      Suns   \n",
       "4756  20/06/2021  42000207  1610612737  ATL       Atlanta     Hawks   \n",
       "4757  20/06/2021  42000207  1610612755  PHI  Philadelphia     76ers   \n",
       "4758  22/06/2021  42000312  1610612746  LAC            LA  Clippers   \n",
       "4759  22/06/2021  42000312  1610612756  PHX       Phoenix      Suns   \n",
       "\n",
       "      TEAM_WINS  TEAM_LOSSES  POINTS_Q1  POINTS_Q2  ...  POINTS_Q4  \\\n",
       "0             0            1         30         31  ...         31   \n",
       "1             1            0         27         29  ...         29   \n",
       "2             0            1         25         29  ...         17   \n",
       "3             1            0         22         40  ...         27   \n",
       "4             0            1         28         27  ...         30   \n",
       "...         ...          ...        ...        ...  ...        ...   \n",
       "4755          1            0         21         36  ...         27   \n",
       "4756          4            3         25         23  ...         27   \n",
       "4757          3            4         28         18  ...         25   \n",
       "4758          0            1         22         25  ...         32   \n",
       "4759          1            0         25         23  ...         29   \n",
       "\n",
       "      OVERTIME1_POINTS  OVERTIME2_POINTS  TOTAL_POINTS  FG_PCT  FT_PCT  \\\n",
       "0                    5                 0           122   0.422   0.850   \n",
       "1                   13                 0           130   0.408   0.842   \n",
       "2                    0                 0           102   0.435   0.714   \n",
       "3                    0                 0           112   0.519   0.708   \n",
       "4                    0                 0           125   0.467   0.818   \n",
       "...                ...               ...           ...     ...     ...   \n",
       "4755                 0                 0           120   0.551   1.000   \n",
       "4756                 0                 0           103   0.444   0.750   \n",
       "4757                 0                 0            96   0.425   0.760   \n",
       "4758                 0                 0           103   0.450   0.750   \n",
       "4759                 0                 0           104   0.500   0.889   \n",
       "\n",
       "      FG3_PCT  AST  REB  TOV  \n",
       "0       0.422   30   53   19  \n",
       "1       0.350   23   57   16  \n",
       "2       0.394   20   41   14  \n",
       "3       0.355   24   45   14  \n",
       "4       0.300   25   49   10  \n",
       "...       ...  ...  ...  ...  \n",
       "4755    0.406   31   43    7  \n",
       "4756    0.259   22   44   10  \n",
       "4757    0.321   26   48   17  \n",
       "4758    0.382   19   39    8  \n",
       "4759    0.231   24   39    9  \n",
       "\n",
       "[4760 rows x 21 columns]"
      ],
      "text/html": "<div>\n<style scoped>\n    .dataframe tbody tr th:only-of-type {\n        vertical-align: middle;\n    }\n\n    .dataframe tbody tr th {\n        vertical-align: top;\n    }\n\n    .dataframe thead th {\n        text-align: right;\n    }\n</style>\n<table border=\"1\" class=\"dataframe\">\n  <thead>\n    <tr style=\"text-align: right;\">\n      <th></th>\n      <th>DATE</th>\n      <th>GAME_ID</th>\n      <th>TEAM_ID</th>\n      <th>TEAM</th>\n      <th>CITY</th>\n      <th>TEAM_NAME</th>\n      <th>TEAM_WINS</th>\n      <th>TEAM_LOSSES</th>\n      <th>POINTS_Q1</th>\n      <th>POINTS_Q2</th>\n      <th>...</th>\n      <th>POINTS_Q4</th>\n      <th>OVERTIME1_POINTS</th>\n      <th>OVERTIME2_POINTS</th>\n      <th>TOTAL_POINTS</th>\n      <th>FG_PCT</th>\n      <th>FT_PCT</th>\n      <th>FG3_PCT</th>\n      <th>AST</th>\n      <th>REB</th>\n      <th>TOV</th>\n    </tr>\n  </thead>\n  <tbody>\n    <tr>\n      <th>0</th>\n      <td>22/10/2019</td>\n      <td>21900001</td>\n      <td>1610612740</td>\n      <td>NOP</td>\n      <td>New Orleans</td>\n      <td>Pelicans</td>\n      <td>0</td>\n      <td>1</td>\n      <td>30</td>\n      <td>31</td>\n      <td>...</td>\n      <td>31</td>\n      <td>5</td>\n      <td>0</td>\n      <td>122</td>\n      <td>0.422</td>\n      <td>0.850</td>\n      <td>0.422</td>\n      <td>30</td>\n      <td>53</td>\n      <td>19</td>\n    </tr>\n    <tr>\n      <th>1</th>\n      <td>22/10/2019</td>\n      <td>21900001</td>\n      <td>1610612761</td>\n      <td>TOR</td>\n      <td>Toronto</td>\n      <td>Raptors</td>\n      <td>1</td>\n      <td>0</td>\n      <td>27</td>\n      <td>29</td>\n      <td>...</td>\n      <td>29</td>\n      <td>13</td>\n      <td>0</td>\n      <td>130</td>\n      <td>0.408</td>\n      <td>0.842</td>\n      <td>0.350</td>\n      <td>23</td>\n      <td>57</td>\n      <td>16</td>\n    </tr>\n    <tr>\n      <th>2</th>\n      <td>22/10/2019</td>\n      <td>21900002</td>\n      <td>1610612747</td>\n      <td>LAL</td>\n      <td>Los Angeles</td>\n      <td>Lakers</td>\n      <td>0</td>\n      <td>1</td>\n      <td>25</td>\n      <td>29</td>\n      <td>...</td>\n      <td>17</td>\n      <td>0</td>\n      <td>0</td>\n      <td>102</td>\n      <td>0.435</td>\n      <td>0.714</td>\n      <td>0.394</td>\n      <td>20</td>\n      <td>41</td>\n      <td>14</td>\n    </tr>\n    <tr>\n      <th>3</th>\n      <td>22/10/2019</td>\n      <td>21900002</td>\n      <td>1610612746</td>\n      <td>LAC</td>\n      <td>LA</td>\n      <td>Clippers</td>\n      <td>1</td>\n      <td>0</td>\n      <td>22</td>\n      <td>40</td>\n      <td>...</td>\n      <td>27</td>\n      <td>0</td>\n      <td>0</td>\n      <td>112</td>\n      <td>0.519</td>\n      <td>0.708</td>\n      <td>0.355</td>\n      <td>24</td>\n      <td>45</td>\n      <td>14</td>\n    </tr>\n    <tr>\n      <th>4</th>\n      <td>23/10/2019</td>\n      <td>21900003</td>\n      <td>1610612741</td>\n      <td>CHI</td>\n      <td>Chicago</td>\n      <td>Bulls</td>\n      <td>0</td>\n      <td>1</td>\n      <td>28</td>\n      <td>27</td>\n      <td>...</td>\n      <td>30</td>\n      <td>0</td>\n      <td>0</td>\n      <td>125</td>\n      <td>0.467</td>\n      <td>0.818</td>\n      <td>0.300</td>\n      <td>25</td>\n      <td>49</td>\n      <td>10</td>\n    </tr>\n    <tr>\n      <th>...</th>\n      <td>...</td>\n      <td>...</td>\n      <td>...</td>\n      <td>...</td>\n      <td>...</td>\n      <td>...</td>\n      <td>...</td>\n      <td>...</td>\n      <td>...</td>\n      <td>...</td>\n      <td>...</td>\n      <td>...</td>\n      <td>...</td>\n      <td>...</td>\n      <td>...</td>\n      <td>...</td>\n      <td>...</td>\n      <td>...</td>\n      <td>...</td>\n      <td>...</td>\n      <td>...</td>\n    </tr>\n    <tr>\n      <th>4755</th>\n      <td>20/06/2021</td>\n      <td>42000311</td>\n      <td>1610612756</td>\n      <td>PHX</td>\n      <td>Phoenix</td>\n      <td>Suns</td>\n      <td>1</td>\n      <td>0</td>\n      <td>21</td>\n      <td>36</td>\n      <td>...</td>\n      <td>27</td>\n      <td>0</td>\n      <td>0</td>\n      <td>120</td>\n      <td>0.551</td>\n      <td>1.000</td>\n      <td>0.406</td>\n      <td>31</td>\n      <td>43</td>\n      <td>7</td>\n    </tr>\n    <tr>\n      <th>4756</th>\n      <td>20/06/2021</td>\n      <td>42000207</td>\n      <td>1610612737</td>\n      <td>ATL</td>\n      <td>Atlanta</td>\n      <td>Hawks</td>\n      <td>4</td>\n      <td>3</td>\n      <td>25</td>\n      <td>23</td>\n      <td>...</td>\n      <td>27</td>\n      <td>0</td>\n      <td>0</td>\n      <td>103</td>\n      <td>0.444</td>\n      <td>0.750</td>\n      <td>0.259</td>\n      <td>22</td>\n      <td>44</td>\n      <td>10</td>\n    </tr>\n    <tr>\n      <th>4757</th>\n      <td>20/06/2021</td>\n      <td>42000207</td>\n      <td>1610612755</td>\n      <td>PHI</td>\n      <td>Philadelphia</td>\n      <td>76ers</td>\n      <td>3</td>\n      <td>4</td>\n      <td>28</td>\n      <td>18</td>\n      <td>...</td>\n      <td>25</td>\n      <td>0</td>\n      <td>0</td>\n      <td>96</td>\n      <td>0.425</td>\n      <td>0.760</td>\n      <td>0.321</td>\n      <td>26</td>\n      <td>48</td>\n      <td>17</td>\n    </tr>\n    <tr>\n      <th>4758</th>\n      <td>22/06/2021</td>\n      <td>42000312</td>\n      <td>1610612746</td>\n      <td>LAC</td>\n      <td>LA</td>\n      <td>Clippers</td>\n      <td>0</td>\n      <td>1</td>\n      <td>22</td>\n      <td>25</td>\n      <td>...</td>\n      <td>32</td>\n      <td>0</td>\n      <td>0</td>\n      <td>103</td>\n      <td>0.450</td>\n      <td>0.750</td>\n      <td>0.382</td>\n      <td>19</td>\n      <td>39</td>\n      <td>8</td>\n    </tr>\n    <tr>\n      <th>4759</th>\n      <td>22/06/2021</td>\n      <td>42000312</td>\n      <td>1610612756</td>\n      <td>PHX</td>\n      <td>Phoenix</td>\n      <td>Suns</td>\n      <td>1</td>\n      <td>0</td>\n      <td>25</td>\n      <td>23</td>\n      <td>...</td>\n      <td>29</td>\n      <td>0</td>\n      <td>0</td>\n      <td>104</td>\n      <td>0.500</td>\n      <td>0.889</td>\n      <td>0.231</td>\n      <td>24</td>\n      <td>39</td>\n      <td>9</td>\n    </tr>\n  </tbody>\n</table>\n<p>4760 rows × 21 columns</p>\n</div>"
     },
     "metadata": {},
     "execution_count": 17
    }
   ],
   "source": [
    "df_games"
   ]
  },
  {
   "cell_type": "code",
   "execution_count": 18,
   "metadata": {},
   "outputs": [
    {
     "output_type": "execute_result",
     "data": {
      "text/plain": [
       "   TEAM_NAME  TEAM_ID  TOTAL_TEAM_SCORE\n",
       "0        GSW        1         85.100871\n",
       "1        POR        2         77.225285\n",
       "2        DEN        3         66.692896\n",
       "3        WAS        4         72.563369\n",
       "4        DAL        5         69.965595\n",
       "5        MIL        6         73.420374\n",
       "6        PHX        7         73.107778\n",
       "7        NYK        8         66.012107\n",
       "8        BOS        9         80.303052\n",
       "9        NOP       10         64.015418\n",
       "10       CHI       11         73.896496\n",
       "11       ATL       12         74.175677\n",
       "12       SAC       13         79.271891\n",
       "13       CLE       14         74.998370\n",
       "14       PHI       15         71.085154\n",
       "15       BKN       16         74.287874\n",
       "16       CHA       17         72.331786\n",
       "17       UTA       18         75.414780\n",
       "18       MIN       19         73.831378\n",
       "19       SAS       20         73.600570\n",
       "20       LAC       21         77.637377\n",
       "21       IND       22         74.117156\n",
       "22       DET       23         73.043957\n",
       "23       MEM       24         76.885312\n",
       "24       MIA       25         79.331900\n",
       "25       TOR       26         73.806966\n",
       "26       LAL       27         82.805261\n",
       "27       HOU       28         67.112163\n",
       "28       OKC       29         68.154076\n",
       "29       ORL       30         67.977461"
      ],
      "text/html": "<div>\n<style scoped>\n    .dataframe tbody tr th:only-of-type {\n        vertical-align: middle;\n    }\n\n    .dataframe tbody tr th {\n        vertical-align: top;\n    }\n\n    .dataframe thead th {\n        text-align: right;\n    }\n</style>\n<table border=\"1\" class=\"dataframe\">\n  <thead>\n    <tr style=\"text-align: right;\">\n      <th></th>\n      <th>TEAM_NAME</th>\n      <th>TEAM_ID</th>\n      <th>TOTAL_TEAM_SCORE</th>\n    </tr>\n  </thead>\n  <tbody>\n    <tr>\n      <th>0</th>\n      <td>GSW</td>\n      <td>1</td>\n      <td>85.100871</td>\n    </tr>\n    <tr>\n      <th>1</th>\n      <td>POR</td>\n      <td>2</td>\n      <td>77.225285</td>\n    </tr>\n    <tr>\n      <th>2</th>\n      <td>DEN</td>\n      <td>3</td>\n      <td>66.692896</td>\n    </tr>\n    <tr>\n      <th>3</th>\n      <td>WAS</td>\n      <td>4</td>\n      <td>72.563369</td>\n    </tr>\n    <tr>\n      <th>4</th>\n      <td>DAL</td>\n      <td>5</td>\n      <td>69.965595</td>\n    </tr>\n    <tr>\n      <th>5</th>\n      <td>MIL</td>\n      <td>6</td>\n      <td>73.420374</td>\n    </tr>\n    <tr>\n      <th>6</th>\n      <td>PHX</td>\n      <td>7</td>\n      <td>73.107778</td>\n    </tr>\n    <tr>\n      <th>7</th>\n      <td>NYK</td>\n      <td>8</td>\n      <td>66.012107</td>\n    </tr>\n    <tr>\n      <th>8</th>\n      <td>BOS</td>\n      <td>9</td>\n      <td>80.303052</td>\n    </tr>\n    <tr>\n      <th>9</th>\n      <td>NOP</td>\n      <td>10</td>\n      <td>64.015418</td>\n    </tr>\n    <tr>\n      <th>10</th>\n      <td>CHI</td>\n      <td>11</td>\n      <td>73.896496</td>\n    </tr>\n    <tr>\n      <th>11</th>\n      <td>ATL</td>\n      <td>12</td>\n      <td>74.175677</td>\n    </tr>\n    <tr>\n      <th>12</th>\n      <td>SAC</td>\n      <td>13</td>\n      <td>79.271891</td>\n    </tr>\n    <tr>\n      <th>13</th>\n      <td>CLE</td>\n      <td>14</td>\n      <td>74.998370</td>\n    </tr>\n    <tr>\n      <th>14</th>\n      <td>PHI</td>\n      <td>15</td>\n      <td>71.085154</td>\n    </tr>\n    <tr>\n      <th>15</th>\n      <td>BKN</td>\n      <td>16</td>\n      <td>74.287874</td>\n    </tr>\n    <tr>\n      <th>16</th>\n      <td>CHA</td>\n      <td>17</td>\n      <td>72.331786</td>\n    </tr>\n    <tr>\n      <th>17</th>\n      <td>UTA</td>\n      <td>18</td>\n      <td>75.414780</td>\n    </tr>\n    <tr>\n      <th>18</th>\n      <td>MIN</td>\n      <td>19</td>\n      <td>73.831378</td>\n    </tr>\n    <tr>\n      <th>19</th>\n      <td>SAS</td>\n      <td>20</td>\n      <td>73.600570</td>\n    </tr>\n    <tr>\n      <th>20</th>\n      <td>LAC</td>\n      <td>21</td>\n      <td>77.637377</td>\n    </tr>\n    <tr>\n      <th>21</th>\n      <td>IND</td>\n      <td>22</td>\n      <td>74.117156</td>\n    </tr>\n    <tr>\n      <th>22</th>\n      <td>DET</td>\n      <td>23</td>\n      <td>73.043957</td>\n    </tr>\n    <tr>\n      <th>23</th>\n      <td>MEM</td>\n      <td>24</td>\n      <td>76.885312</td>\n    </tr>\n    <tr>\n      <th>24</th>\n      <td>MIA</td>\n      <td>25</td>\n      <td>79.331900</td>\n    </tr>\n    <tr>\n      <th>25</th>\n      <td>TOR</td>\n      <td>26</td>\n      <td>73.806966</td>\n    </tr>\n    <tr>\n      <th>26</th>\n      <td>LAL</td>\n      <td>27</td>\n      <td>82.805261</td>\n    </tr>\n    <tr>\n      <th>27</th>\n      <td>HOU</td>\n      <td>28</td>\n      <td>67.112163</td>\n    </tr>\n    <tr>\n      <th>28</th>\n      <td>OKC</td>\n      <td>29</td>\n      <td>68.154076</td>\n    </tr>\n    <tr>\n      <th>29</th>\n      <td>ORL</td>\n      <td>30</td>\n      <td>67.977461</td>\n    </tr>\n  </tbody>\n</table>\n</div>"
     },
     "metadata": {},
     "execution_count": 18
    }
   ],
   "source": [
    "df_teams"
   ]
  },
  {
   "cell_type": "code",
   "execution_count": 19,
   "metadata": {},
   "outputs": [
    {
     "output_type": "execute_result",
     "data": {
      "text/plain": [
       "            DATE   GAME_ID TEAM_A TEAM_A_ID  TEAM_A_SCORE TEAM_B TEAM_B_ID  \\\n",
       "0     22/10/2019  21900001    NOP        10     64.015418    TOR        26   \n",
       "1     22/10/2019  21900002    LAL        27     82.805261    LAC        21   \n",
       "2     23/10/2019  21900003    CHI        11     73.896496    CHA        17   \n",
       "3     23/10/2019  21900004    DET        23     73.043957    IND        22   \n",
       "4     23/10/2019  21900005    CLE        14     74.998370    ORL        30   \n",
       "...          ...       ...    ...       ...           ...    ...       ...   \n",
       "2375  18/06/2021  42000226    UTA        18     75.414780    LAC        21   \n",
       "2376  19/06/2021  42000217    MIL         6     73.420374    BKN        16   \n",
       "2377  20/06/2021  42000311    LAC        21     77.637377    PHX         7   \n",
       "2378  20/06/2021  42000207    ATL        12     74.175677    PHI        15   \n",
       "2379  22/06/2021  42000312    LAC        21     77.637377    PHX         7   \n",
       "\n",
       "      TEAM_B_SCORE TEAM_A_POINTS TEAM_B_POINTS  \n",
       "0        73.806966           122           130  \n",
       "1        77.637377           102           112  \n",
       "2        72.331786           125           126  \n",
       "3        74.117156           119           110  \n",
       "4        67.977461            85            94  \n",
       "...            ...           ...           ...  \n",
       "2375     77.637377           119           131  \n",
       "2376     74.287874           115           111  \n",
       "2377     73.107778           114           120  \n",
       "2378     71.085154           103            96  \n",
       "2379     73.107778           103           104  \n",
       "\n",
       "[2380 rows x 10 columns]"
      ],
      "text/html": "<div>\n<style scoped>\n    .dataframe tbody tr th:only-of-type {\n        vertical-align: middle;\n    }\n\n    .dataframe tbody tr th {\n        vertical-align: top;\n    }\n\n    .dataframe thead th {\n        text-align: right;\n    }\n</style>\n<table border=\"1\" class=\"dataframe\">\n  <thead>\n    <tr style=\"text-align: right;\">\n      <th></th>\n      <th>DATE</th>\n      <th>GAME_ID</th>\n      <th>TEAM_A</th>\n      <th>TEAM_A_ID</th>\n      <th>TEAM_A_SCORE</th>\n      <th>TEAM_B</th>\n      <th>TEAM_B_ID</th>\n      <th>TEAM_B_SCORE</th>\n      <th>TEAM_A_POINTS</th>\n      <th>TEAM_B_POINTS</th>\n    </tr>\n  </thead>\n  <tbody>\n    <tr>\n      <th>0</th>\n      <td>22/10/2019</td>\n      <td>21900001</td>\n      <td>NOP</td>\n      <td>10</td>\n      <td>64.015418</td>\n      <td>TOR</td>\n      <td>26</td>\n      <td>73.806966</td>\n      <td>122</td>\n      <td>130</td>\n    </tr>\n    <tr>\n      <th>1</th>\n      <td>22/10/2019</td>\n      <td>21900002</td>\n      <td>LAL</td>\n      <td>27</td>\n      <td>82.805261</td>\n      <td>LAC</td>\n      <td>21</td>\n      <td>77.637377</td>\n      <td>102</td>\n      <td>112</td>\n    </tr>\n    <tr>\n      <th>2</th>\n      <td>23/10/2019</td>\n      <td>21900003</td>\n      <td>CHI</td>\n      <td>11</td>\n      <td>73.896496</td>\n      <td>CHA</td>\n      <td>17</td>\n      <td>72.331786</td>\n      <td>125</td>\n      <td>126</td>\n    </tr>\n    <tr>\n      <th>3</th>\n      <td>23/10/2019</td>\n      <td>21900004</td>\n      <td>DET</td>\n      <td>23</td>\n      <td>73.043957</td>\n      <td>IND</td>\n      <td>22</td>\n      <td>74.117156</td>\n      <td>119</td>\n      <td>110</td>\n    </tr>\n    <tr>\n      <th>4</th>\n      <td>23/10/2019</td>\n      <td>21900005</td>\n      <td>CLE</td>\n      <td>14</td>\n      <td>74.998370</td>\n      <td>ORL</td>\n      <td>30</td>\n      <td>67.977461</td>\n      <td>85</td>\n      <td>94</td>\n    </tr>\n    <tr>\n      <th>...</th>\n      <td>...</td>\n      <td>...</td>\n      <td>...</td>\n      <td>...</td>\n      <td>...</td>\n      <td>...</td>\n      <td>...</td>\n      <td>...</td>\n      <td>...</td>\n      <td>...</td>\n    </tr>\n    <tr>\n      <th>2375</th>\n      <td>18/06/2021</td>\n      <td>42000226</td>\n      <td>UTA</td>\n      <td>18</td>\n      <td>75.414780</td>\n      <td>LAC</td>\n      <td>21</td>\n      <td>77.637377</td>\n      <td>119</td>\n      <td>131</td>\n    </tr>\n    <tr>\n      <th>2376</th>\n      <td>19/06/2021</td>\n      <td>42000217</td>\n      <td>MIL</td>\n      <td>6</td>\n      <td>73.420374</td>\n      <td>BKN</td>\n      <td>16</td>\n      <td>74.287874</td>\n      <td>115</td>\n      <td>111</td>\n    </tr>\n    <tr>\n      <th>2377</th>\n      <td>20/06/2021</td>\n      <td>42000311</td>\n      <td>LAC</td>\n      <td>21</td>\n      <td>77.637377</td>\n      <td>PHX</td>\n      <td>7</td>\n      <td>73.107778</td>\n      <td>114</td>\n      <td>120</td>\n    </tr>\n    <tr>\n      <th>2378</th>\n      <td>20/06/2021</td>\n      <td>42000207</td>\n      <td>ATL</td>\n      <td>12</td>\n      <td>74.175677</td>\n      <td>PHI</td>\n      <td>15</td>\n      <td>71.085154</td>\n      <td>103</td>\n      <td>96</td>\n    </tr>\n    <tr>\n      <th>2379</th>\n      <td>22/06/2021</td>\n      <td>42000312</td>\n      <td>LAC</td>\n      <td>21</td>\n      <td>77.637377</td>\n      <td>PHX</td>\n      <td>7</td>\n      <td>73.107778</td>\n      <td>103</td>\n      <td>104</td>\n    </tr>\n  </tbody>\n</table>\n<p>2380 rows × 10 columns</p>\n</div>"
     },
     "metadata": {},
     "execution_count": 19
    }
   ],
   "source": [
    "df_games_united"
   ]
  },
  {
   "cell_type": "code",
   "execution_count": 20,
   "metadata": {},
   "outputs": [
    {
     "output_type": "stream",
     "name": "stdout",
     "text": [
      "Columns data type:\n\n ####################\n\nPlayers Data:\n\n ---------- \n PLAYER_ID                  int64\nRANK                       int64\nPLAYER                    object\nTEAM                      object\nGAMES_PLAYED               int64\nMINUTES_PLAYED             int64\nTOTAL_THROWS_SCORED        int64\nTOTAL_THROWS_ATTEMPTS      int64\nTHREE_THROWS_SCORED        int64\nTHREE_THROWS_ATTEMPTS      int64\nFREE_THROWS_SCORED         int64\nFREE_THROWS_ATTEMPTS       int64\nOFFENSIVE_REBOUNDS         int64\nDEFFENSIVE_REBOUNDS        int64\nREB                        int64\nASSISTS                    int64\nSTEALS                     int64\nBLOCKS                     int64\nTOV                        int64\nTOTAL_THROWS_MISSED        int64\nTHREE_THROWS_MISSED        int64\nFREE_THROWS_MISSED         int64\nTOTAL_SCORE              float64\ndtype: object\n\n\nGames Data:\n\n ---------- \n DATE                 object\nGAME_ID               int64\nTEAM_ID               int64\nTEAM                 object\nCITY                 object\nTEAM_NAME            object\nTEAM_WINS             int64\nTEAM_LOSSES           int64\nPOINTS_Q1             int64\nPOINTS_Q2             int64\nPOINTS_Q3             int64\nPOINTS_Q4             int64\nOVERTIME1_POINTS      int64\nOVERTIME2_POINTS      int64\nTOTAL_POINTS          int64\nFG_PCT              float64\nFT_PCT              float64\nFG3_PCT             float64\nAST                   int64\nREB                   int64\nTOV                   int64\ndtype: object\n\n\nTeams Data:\n\n ---------- \n TEAM_NAME            object\nTEAM_ID               int32\nTOTAL_TEAM_SCORE    float64\ndtype: object\n\n\nGames United Data:\n\n ---------- \n DATE              object\nGAME_ID           object\nTEAM_A            object\nTEAM_A_ID         object\nTEAM_A_SCORE     float64\nTEAM_B            object\nTEAM_B_ID         object\nTEAM_B_SCORE     float64\nTEAM_A_POINTS     object\nTEAM_B_POINTS     object\ndtype: object\n"
     ]
    }
   ],
   "source": [
    "#Columns type\n",
    "print('Columns data type:')\n",
    "print('\\n','#' * 20)\n",
    "print('\\nPlayers Data:')\n",
    "print('\\n','-' * 10,'\\n', df_players.dtypes)\n",
    "print('\\n\\nGames Data:')\n",
    "print('\\n','-' * 10,'\\n', df_games.dtypes)\n",
    "print('\\n\\nTeams Data:')\n",
    "print('\\n','-' * 10,'\\n', df_teams.dtypes)\n",
    "print('\\n\\nGames United Data:')\n",
    "print('\\n','-' * 10,'\\n', df_games_united.dtypes)"
   ]
  },
  {
   "cell_type": "code",
   "execution_count": 21,
   "metadata": {},
   "outputs": [
    {
     "output_type": "stream",
     "name": "stdout",
     "text": [
      "\n",
      "Empty cells:\n",
      "\n",
      "\n",
      " ####################\n",
      "\n",
      "Players Data:\n",
      "\n",
      " ---------- \n",
      " False\n",
      "\n",
      "\n",
      "Games Data:\n",
      "\n",
      " ---------- \n",
      " False\n",
      "\n",
      "\n",
      "Teams Data:\n",
      "\n",
      " ---------- \n",
      " False\n",
      "\n",
      "\n",
      "Games United Data:\n",
      "\n",
      " ---------- \n",
      " False\n"
     ]
    }
   ],
   "source": [
    "#Empty/NaN cells\n",
    "print('\\nEmpty cells:\\n')\n",
    "print('\\n','#' * 20)\n",
    "print('\\nPlayers Data:')     \n",
    "print('\\n','-' * 10,'\\n', df_players.isnull().values.any())   \n",
    "print('\\n\\nGames Data:')   \n",
    "print('\\n','-' * 10,'\\n', df_games.isnull().values.any())  \n",
    "print('\\n\\nTeams Data:')   \n",
    "print('\\n','-' * 10,'\\n', df_teams.isnull().values.any())  \n",
    "print('\\n\\nGames United Data:')   \n",
    "print('\\n','-' * 10,'\\n', df_games_united.isnull().values.any()) "
   ]
  },
  {
   "cell_type": "code",
   "execution_count": 22,
   "metadata": {},
   "outputs": [
    {
     "output_type": "stream",
     "name": "stdout",
     "text": [
      "\n",
      "Number of Empty cells:\n",
      "\n",
      " ####################\n",
      "\n",
      "Players Data:\n",
      "\n",
      " ---------- \n",
      " PLAYER_ID                0\n",
      "RANK                     0\n",
      "PLAYER                   0\n",
      "TEAM                     0\n",
      "GAMES_PLAYED             0\n",
      "MINUTES_PLAYED           0\n",
      "TOTAL_THROWS_SCORED      0\n",
      "TOTAL_THROWS_ATTEMPTS    0\n",
      "THREE_THROWS_SCORED      0\n",
      "THREE_THROWS_ATTEMPTS    0\n",
      "FREE_THROWS_SCORED       0\n",
      "FREE_THROWS_ATTEMPTS     0\n",
      "OFFENSIVE_REBOUNDS       0\n",
      "DEFFENSIVE_REBOUNDS      0\n",
      "REB                      0\n",
      "ASSISTS                  0\n",
      "STEALS                   0\n",
      "BLOCKS                   0\n",
      "TOV                      0\n",
      "TOTAL_THROWS_MISSED      0\n",
      "THREE_THROWS_MISSED      0\n",
      "FREE_THROWS_MISSED       0\n",
      "TOTAL_SCORE              0\n",
      "dtype: int64\n",
      "\n",
      "\n",
      "Games Data:\n",
      "\n",
      " ---------- \n",
      " DATE                0\n",
      "GAME_ID             0\n",
      "TEAM_ID             0\n",
      "TEAM                0\n",
      "CITY                0\n",
      "TEAM_NAME           0\n",
      "TEAM_WINS           0\n",
      "TEAM_LOSSES         0\n",
      "POINTS_Q1           0\n",
      "POINTS_Q2           0\n",
      "POINTS_Q3           0\n",
      "POINTS_Q4           0\n",
      "OVERTIME1_POINTS    0\n",
      "OVERTIME2_POINTS    0\n",
      "TOTAL_POINTS        0\n",
      "FG_PCT              0\n",
      "FT_PCT              0\n",
      "FG3_PCT             0\n",
      "AST                 0\n",
      "REB                 0\n",
      "TOV                 0\n",
      "dtype: int64\n",
      "\n",
      "\n",
      "Teams Data:\n",
      "\n",
      " ---------- \n",
      " TEAM_NAME           0\n",
      "TEAM_ID             0\n",
      "TOTAL_TEAM_SCORE    0\n",
      "dtype: int64\n",
      "\n",
      "\n",
      "Games United Data:\n",
      "\n",
      " ---------- \n",
      " DATE             0\n",
      "GAME_ID          0\n",
      "TEAM_A           0\n",
      "TEAM_A_ID        0\n",
      "TEAM_A_SCORE     0\n",
      "TEAM_B           0\n",
      "TEAM_B_ID        0\n",
      "TEAM_B_SCORE     0\n",
      "TEAM_A_POINTS    0\n",
      "TEAM_B_POINTS    0\n",
      "dtype: int64\n"
     ]
    }
   ],
   "source": [
    "#Number of empty/NaN cells\n",
    "print('\\nNumber of Empty cells:')\n",
    "print('\\n','#' * 20)\n",
    "print('\\nPlayers Data:')\n",
    "print('\\n','-' * 10,'\\n', df_players.isnull().sum())\n",
    "print('\\n\\nGames Data:')           \n",
    "print('\\n','-' * 10,'\\n', df_games.isnull().sum())\n",
    "print('\\n\\nTeams Data:')           \n",
    "print('\\n','-' * 10,'\\n', df_teams.isnull().sum())\n",
    "print('\\n\\nGames United Data:')           \n",
    "print('\\n','-' * 10,'\\n', df_games_united.isnull().sum())"
   ]
  },
  {
   "cell_type": "markdown",
   "metadata": {},
   "source": [
    "END"
   ]
  },
  {
   "cell_type": "code",
   "execution_count": null,
   "metadata": {},
   "outputs": [],
   "source": []
  }
 ],
 "metadata": {
  "kernelspec": {
   "name": "python3",
   "display_name": "Python 3.9.1 64-bit"
  },
  "language_info": {
   "codemirror_mode": {
    "name": "ipython",
    "version": 3
   },
   "file_extension": ".py",
   "mimetype": "text/x-python",
   "name": "python",
   "nbconvert_exporter": "python",
   "pygments_lexer": "ipython3",
   "version": "3.9.1"
  },
  "interpreter": {
   "hash": "0007d26ee91f9e1d83fd86304790352ab6b87b16f001fd840bd660957a1f429e"
  }
 },
 "nbformat": 4,
 "nbformat_minor": 4
}