{
 "metadata": {
  "language_info": {
   "codemirror_mode": {
    "name": "ipython",
    "version": 3
   },
   "file_extension": ".py",
   "mimetype": "text/x-python",
   "name": "python",
   "nbconvert_exporter": "python",
   "pygments_lexer": "ipython3",
   "version": "3.9.1"
  },
  "orig_nbformat": 4,
  "kernelspec": {
   "name": "python3",
   "display_name": "Python 3.9.1 64-bit"
  },
  "interpreter": {
   "hash": "0007d26ee91f9e1d83fd86304790352ab6b87b16f001fd840bd660957a1f429e"
  }
 },
 "nbformat": 4,
 "nbformat_minor": 2,
 "cells": [
  {
   "cell_type": "code",
   "execution_count": 10,
   "metadata": {},
   "outputs": [],
   "source": [
    "import pandas as pd\n",
    "import numpy as np\n",
    "import matplotlib.pyplot as plt\n",
    "import sklearn\n",
    "from sklearn.model_selection import train_test_split\n",
    "from sklearn import linear_model, metrics, preprocessing\n",
    "from sklearn.preprocessing import StandardScaler, MinMaxScaler, LabelEncoder\n",
    "from sklearn.linear_model import LinearRegression\n",
    "from sklearn.metrics import r2_score, f1_score, accuracy_score\n"
   ]
  },
  {
   "cell_type": "code",
   "execution_count": 11,
   "metadata": {},
   "outputs": [],
   "source": [
    "def split_to_train_and_test(X, y, test_ratio, rand_state):\n",
    "    X_train, X_test, y_train, y_test = train_test_split(X, y, test_size=test_ratio, random_state=rand_state)\n",
    "    return X_train, X_test, y_train, y_test"
   ]
  },
  {
   "cell_type": "code",
   "execution_count": 24,
   "metadata": {},
   "outputs": [],
   "source": [
    "categorys_to_predict = ['TEAM_A_POINTS','TEAM_B_POINTS']\n",
    "irrelevant_categories = ['DATE','GAME_ID','TEAM_A','TEAM_B','TEAM_A_ID','TEAM_B_ID']\n",
    "\n",
    "file_name = './games-united.csv'\n",
    "df = pd.read_csv(file_name).drop(columns=irrelevant_categories)\n",
    "\n",
    "X = df.drop(columns=categorys_to_predict)\n",
    "y = df[categorys_to_predict]\n",
    "\n",
    "X_train, X_test, y_train, y_test = split_to_train_and_test(X, y, 0.3, 41)\n"
   ]
  },
  {
   "cell_type": "code",
   "execution_count": 30,
   "metadata": {},
   "outputs": [
    {
     "output_type": "execute_result",
     "data": {
      "text/plain": [
       "(      TEAM_A_SCORE  TEAM_B_SCORE\n",
       " 61       77.225285     68.154076\n",
       " 2333     73.420374     79.331900\n",
       " 567      64.015418     66.012107\n",
       " 293      75.414780     71.085154\n",
       " 2178     73.806966     75.414780\n",
       " ...            ...           ...\n",
       " 243      79.271891     80.303052\n",
       " 321      74.117156     73.043957\n",
       " 1104     69.965595     77.637377\n",
       " 931      75.414780     80.303052\n",
       " 1984     73.600570     66.692896\n",
       " \n",
       " [1666 rows x 2 columns],\n",
       "       TEAM_A_POINTS  TEAM_B_POINTS\n",
       " 61              102             99\n",
       " 2333            120            103\n",
       " 567             123            111\n",
       " 293              94            103\n",
       " 2178            102            106\n",
       " ...             ...            ...\n",
       " 243             102            103\n",
       " 321             101            108\n",
       " 1104            127            114\n",
       " 931              99             94\n",
       " 1984             96            106\n",
       " \n",
       " [1666 rows x 2 columns],\n",
       "       TEAM_A_SCORE  TEAM_B_SCORE\n",
       " 1897     80.303052     68.154076\n",
       " 982      82.805261     67.977461\n",
       " 1605     73.420374     75.414780\n",
       " 1095     71.085154     80.303052\n",
       " 2166     67.977461     76.885312\n",
       " ...            ...           ...\n",
       " 626      73.420374     74.287874\n",
       " 951      67.977461     67.112163\n",
       " 1121     73.420374     67.977461\n",
       " 2360     66.692896     73.107778\n",
       " 1799     77.637377     69.965595\n",
       " \n",
       " [714 rows x 2 columns],\n",
       "       TEAM_A_POINTS  TEAM_B_POINTS\n",
       " 1897            111             94\n",
       " 982             119            112\n",
       " 1605            115            129\n",
       " 1095            101            109\n",
       " 2166             75             92\n",
       " ...             ...            ...\n",
       " 626             117             97\n",
       " 951             126            106\n",
       " 1121            121            106\n",
       " 2360             98            123\n",
       " 1799            109             99\n",
       " \n",
       " [714 rows x 2 columns])"
      ]
     },
     "metadata": {},
     "execution_count": 30
    }
   ],
   "source": [
    "X_train,y_train,X_test,y_test"
   ]
  },
  {
   "cell_type": "code",
   "execution_count": 15,
   "metadata": {},
   "outputs": [
    {
     "output_type": "execute_result",
     "data": {
      "text/plain": [
       "      ACTUAL_A  PREDICTED_A  ACTUAL_B  PREDICTED_B\n",
       "1897       111          111        94          111\n",
       "982        119          111       112          111\n",
       "1605       115          110       129          112\n",
       "1095       101          110       109          113\n",
       "2166        75          111        92          113\n",
       "...        ...          ...       ...          ...\n",
       "626        117          111        97          112\n",
       "951        126          111       106          112\n",
       "1121       121          111       106          112\n",
       "2360        98          111       123          113\n",
       "1799       109          111        99          112\n",
       "\n",
       "[714 rows x 4 columns]"
      ],
      "text/html": "<div>\n<style scoped>\n    .dataframe tbody tr th:only-of-type {\n        vertical-align: middle;\n    }\n\n    .dataframe tbody tr th {\n        vertical-align: top;\n    }\n\n    .dataframe thead th {\n        text-align: right;\n    }\n</style>\n<table border=\"1\" class=\"dataframe\">\n  <thead>\n    <tr style=\"text-align: right;\">\n      <th></th>\n      <th>ACTUAL_A</th>\n      <th>PREDICTED_A</th>\n      <th>ACTUAL_B</th>\n      <th>PREDICTED_B</th>\n    </tr>\n  </thead>\n  <tbody>\n    <tr>\n      <th>1897</th>\n      <td>111</td>\n      <td>111</td>\n      <td>94</td>\n      <td>111</td>\n    </tr>\n    <tr>\n      <th>982</th>\n      <td>119</td>\n      <td>111</td>\n      <td>112</td>\n      <td>111</td>\n    </tr>\n    <tr>\n      <th>1605</th>\n      <td>115</td>\n      <td>110</td>\n      <td>129</td>\n      <td>112</td>\n    </tr>\n    <tr>\n      <th>1095</th>\n      <td>101</td>\n      <td>110</td>\n      <td>109</td>\n      <td>113</td>\n    </tr>\n    <tr>\n      <th>2166</th>\n      <td>75</td>\n      <td>111</td>\n      <td>92</td>\n      <td>113</td>\n    </tr>\n    <tr>\n      <th>...</th>\n      <td>...</td>\n      <td>...</td>\n      <td>...</td>\n      <td>...</td>\n    </tr>\n    <tr>\n      <th>626</th>\n      <td>117</td>\n      <td>111</td>\n      <td>97</td>\n      <td>112</td>\n    </tr>\n    <tr>\n      <th>951</th>\n      <td>126</td>\n      <td>111</td>\n      <td>106</td>\n      <td>112</td>\n    </tr>\n    <tr>\n      <th>1121</th>\n      <td>121</td>\n      <td>111</td>\n      <td>106</td>\n      <td>112</td>\n    </tr>\n    <tr>\n      <th>2360</th>\n      <td>98</td>\n      <td>111</td>\n      <td>123</td>\n      <td>113</td>\n    </tr>\n    <tr>\n      <th>1799</th>\n      <td>109</td>\n      <td>111</td>\n      <td>99</td>\n      <td>112</td>\n    </tr>\n  </tbody>\n</table>\n<p>714 rows × 4 columns</p>\n</div>"
     },
     "metadata": {},
     "execution_count": 15
    }
   ],
   "source": [
    "# Predicting Using the trained linear regression model:\n",
    "\n",
    "trained_lin_reg_model = LinearRegression().fit(X_train, y_train)\n",
    "\n",
    "\n",
    "# Arranging predicted data sides to actual data:\n",
    "predicted_results = trained_lin_reg_model.predict(X_test)\n",
    "\n",
    "predicted_A = []\n",
    "predicted_B = []\n",
    "for result in predicted_results:\n",
    "    predicted_A.append(int(result[0]))\n",
    "    predicted_B.append(int(result[1]))\n",
    "\n",
    "df_result_eval = pd.DataFrame(columns=['ACTUAL_A','PREDICTED_A','ACTUAL_B','PREDICTED_B'])\n",
    "df_result_eval['ACTUAL_A'] = y_test['TEAM_A_POINTS']\n",
    "df_result_eval['ACTUAL_B'] = y_test['TEAM_B_POINTS']\n",
    "df_result_eval['PREDICTED_A'] = predicted_A\n",
    "df_result_eval['PREDICTED_B'] = predicted_B\n",
    "\n",
    "# Displaying results:\n",
    "df_result_eval\n"
   ]
  },
  {
   "cell_type": "code",
   "execution_count": 16,
   "metadata": {},
   "outputs": [
    {
     "output_type": "stream",
     "name": "stdout",
     "text": [
      "mean squared error for Team A points: 12.505460991976616\nmean squared error for Team B points: 12.419714156126458\n"
     ]
    }
   ],
   "source": [
    "# Calculating the mean squared error of the prediction:\n",
    "\n",
    "#metrics.mean_squared_error(y_test, predicted_results,squared=False)\n",
    "\n",
    "print(f\"mean squared error for Team A points: {metrics.mean_squared_error(df_result_eval['ACTUAL_A'], df_result_eval['PREDICTED_A'],squared=False)}\")\n",
    "print(f\"mean squared error for Team B points: {metrics.mean_squared_error(df_result_eval['ACTUAL_B'], df_result_eval['PREDICTED_B'],squared=False)}\")"
   ]
  },
  {
   "cell_type": "code",
   "execution_count": 17,
   "metadata": {},
   "outputs": [
    {
     "output_type": "execute_result",
     "data": {
      "text/plain": [
       "      ACTUAL_A  PREDICTED_A  ACTUAL_B  PREDICTED_B ORIGINAL_WINNER  \\\n",
       "1897       111          111        94          111               A   \n",
       "982        119          111       112          111               A   \n",
       "1605       115          110       129          112               B   \n",
       "1095       101          110       109          113               B   \n",
       "2166        75          111        92          113               B   \n",
       "...        ...          ...       ...          ...             ...   \n",
       "626        117          111        97          112               A   \n",
       "951        126          111       106          112               A   \n",
       "1121       121          111       106          112               A   \n",
       "2360        98          111       123          113               B   \n",
       "1799       109          111        99          112               A   \n",
       "\n",
       "     PREDICTED_WINNER  ORIGINAL_DIFF  PREDICTED_DIFF  \n",
       "1897             DRAW             17               0  \n",
       "982              DRAW              7               0  \n",
       "1605                B             14               2  \n",
       "1095                B              8               3  \n",
       "2166                B             17               2  \n",
       "...               ...            ...             ...  \n",
       "626                 B             20               1  \n",
       "951                 B             20               1  \n",
       "1121                B             15               1  \n",
       "2360                B             25               2  \n",
       "1799                B             10               1  \n",
       "\n",
       "[714 rows x 8 columns]"
      ],
      "text/html": "<div>\n<style scoped>\n    .dataframe tbody tr th:only-of-type {\n        vertical-align: middle;\n    }\n\n    .dataframe tbody tr th {\n        vertical-align: top;\n    }\n\n    .dataframe thead th {\n        text-align: right;\n    }\n</style>\n<table border=\"1\" class=\"dataframe\">\n  <thead>\n    <tr style=\"text-align: right;\">\n      <th></th>\n      <th>ACTUAL_A</th>\n      <th>PREDICTED_A</th>\n      <th>ACTUAL_B</th>\n      <th>PREDICTED_B</th>\n      <th>ORIGINAL_WINNER</th>\n      <th>PREDICTED_WINNER</th>\n      <th>ORIGINAL_DIFF</th>\n      <th>PREDICTED_DIFF</th>\n    </tr>\n  </thead>\n  <tbody>\n    <tr>\n      <th>1897</th>\n      <td>111</td>\n      <td>111</td>\n      <td>94</td>\n      <td>111</td>\n      <td>A</td>\n      <td>DRAW</td>\n      <td>17</td>\n      <td>0</td>\n    </tr>\n    <tr>\n      <th>982</th>\n      <td>119</td>\n      <td>111</td>\n      <td>112</td>\n      <td>111</td>\n      <td>A</td>\n      <td>DRAW</td>\n      <td>7</td>\n      <td>0</td>\n    </tr>\n    <tr>\n      <th>1605</th>\n      <td>115</td>\n      <td>110</td>\n      <td>129</td>\n      <td>112</td>\n      <td>B</td>\n      <td>B</td>\n      <td>14</td>\n      <td>2</td>\n    </tr>\n    <tr>\n      <th>1095</th>\n      <td>101</td>\n      <td>110</td>\n      <td>109</td>\n      <td>113</td>\n      <td>B</td>\n      <td>B</td>\n      <td>8</td>\n      <td>3</td>\n    </tr>\n    <tr>\n      <th>2166</th>\n      <td>75</td>\n      <td>111</td>\n      <td>92</td>\n      <td>113</td>\n      <td>B</td>\n      <td>B</td>\n      <td>17</td>\n      <td>2</td>\n    </tr>\n    <tr>\n      <th>...</th>\n      <td>...</td>\n      <td>...</td>\n      <td>...</td>\n      <td>...</td>\n      <td>...</td>\n      <td>...</td>\n      <td>...</td>\n      <td>...</td>\n    </tr>\n    <tr>\n      <th>626</th>\n      <td>117</td>\n      <td>111</td>\n      <td>97</td>\n      <td>112</td>\n      <td>A</td>\n      <td>B</td>\n      <td>20</td>\n      <td>1</td>\n    </tr>\n    <tr>\n      <th>951</th>\n      <td>126</td>\n      <td>111</td>\n      <td>106</td>\n      <td>112</td>\n      <td>A</td>\n      <td>B</td>\n      <td>20</td>\n      <td>1</td>\n    </tr>\n    <tr>\n      <th>1121</th>\n      <td>121</td>\n      <td>111</td>\n      <td>106</td>\n      <td>112</td>\n      <td>A</td>\n      <td>B</td>\n      <td>15</td>\n      <td>1</td>\n    </tr>\n    <tr>\n      <th>2360</th>\n      <td>98</td>\n      <td>111</td>\n      <td>123</td>\n      <td>113</td>\n      <td>B</td>\n      <td>B</td>\n      <td>25</td>\n      <td>2</td>\n    </tr>\n    <tr>\n      <th>1799</th>\n      <td>109</td>\n      <td>111</td>\n      <td>99</td>\n      <td>112</td>\n      <td>A</td>\n      <td>B</td>\n      <td>10</td>\n      <td>1</td>\n    </tr>\n  </tbody>\n</table>\n<p>714 rows × 8 columns</p>\n</div>"
     },
     "metadata": {},
     "execution_count": 17
    }
   ],
   "source": [
    "# Calculating actual and predicted winners to 'df_result_eval':\n",
    "\n",
    "original_winners = []\n",
    "predicted_winners = []\n",
    "original_diffs = []\n",
    "predicted_diffs = []\n",
    "\n",
    "for row in df_result_eval.iterrows():\n",
    "    if row[1]['ACTUAL_A'] > row[1]['ACTUAL_B']:\n",
    "        original_winner= 'A'\n",
    "    elif row[1]['ACTUAL_A'] < row[1]['ACTUAL_B']:\n",
    "        original_winner= 'B'\n",
    "    else:\n",
    "        original_winner = 'DRAW'\n",
    " \n",
    "    if row[1]['PREDICTED_A'] > row[1]['PREDICTED_B']:\n",
    "        predicted_winner= 'A'\n",
    "    elif row[1]['PREDICTED_A'] < row[1]['PREDICTED_B']:\n",
    "        predicted_winner= 'B'\n",
    "    else:\n",
    "        predicted_winner = 'DRAW'\n",
    "    original_winners.append(original_winner)\n",
    "    predicted_winners.append(predicted_winner)\n",
    "    original_diffs.append(abs((row[1]['ACTUAL_A'])-(row[1]['ACTUAL_B'])))\n",
    "    predicted_diffs.append(abs((row[1]['PREDICTED_A'])-(row[1]['PREDICTED_B'])))\n",
    "\n",
    "df_result_eval['ORIGINAL_WINNER'] = original_winners\n",
    "df_result_eval['PREDICTED_WINNER'] = predicted_winners\n",
    "df_result_eval['ORIGINAL_DIFF'] = original_diffs\n",
    "df_result_eval['PREDICTED_DIFF'] = predicted_diffs\n",
    "\n",
    "df_result_eval\n"
   ]
  },
  {
   "cell_type": "code",
   "execution_count": 18,
   "metadata": {},
   "outputs": [],
   "source": [
    "def calculate_winner_prediction_evaluation(df_result_eval):\n",
    "    count = 0\n",
    "    for row in df_result_eval.iterrows():\n",
    "        if row[1]['ORIGINAL_WINNER'] == row[1]['PREDICTED_WINNER']:\n",
    "            count = count+1\n",
    "    return count/df_result_eval.shape[0]"
   ]
  },
  {
   "cell_type": "code",
   "execution_count": 19,
   "metadata": {},
   "outputs": [
    {
     "output_type": "stream",
     "name": "stdout",
     "text": [
      "winner_prediction_evaluation: 49%\n"
     ]
    }
   ],
   "source": [
    "winner_prediction_evaluation = calculate_winner_prediction_evaluation(df_result_eval)\n",
    "print(\"winner_prediction_evaluation: {0:.0%}\".format(winner_prediction_evaluation))"
   ]
  },
  {
   "cell_type": "code",
   "execution_count": 20,
   "metadata": {},
   "outputs": [
    {
     "output_type": "stream",
     "name": "stdout",
     "text": [
      "diff_prediction_evaluation: 14%\n"
     ]
    }
   ],
   "source": [
    "diff_prediction_evaluation = df_result_eval['PREDICTED_DIFF'].mean()/df_result_eval['ORIGINAL_DIFF'].mean()\n",
    "print(\"diff_prediction_evaluation: {0:.0%}\".format(diff_prediction_evaluation))"
   ]
  },
  {
   "cell_type": "code",
   "execution_count": null,
   "metadata": {},
   "outputs": [],
   "source": []
  }
 ]
}