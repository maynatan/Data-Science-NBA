{
 "cells": [
  {
   "cell_type": "code",
   "execution_count": null,
   "metadata": {},
   "outputs": [],
   "source": [
    "import pandas as pd\n",
    "import os\n",
    "import numpy as np\n",
    "import matplotlib.pyplot as plt\n",
    "import seaborn as sns\n",
    "pd.options.mode.chained_assignment = None\n",
    "%matplotlib inline"
   ]
  },
  {
   "cell_type": "code",
   "execution_count": null,
   "metadata": {},
   "outputs": [],
   "source": [
    "def load_csv(file_name):\n",
    "    df = pd.read_csv(file_name)\n",
    "    return df"
   ]
  },
  {
   "cell_type": "code",
   "execution_count": null,
   "metadata": {},
   "outputs": [],
   "source": [
    "#Loading data\n",
    "df_players = load_csv('./player-data.csv')\n",
    "df_games = load_csv('./games-data.csv')\n",
    "df_teams = load_csv('./teams-data.csv')\n",
    "df_games_united = load_csv('./games-united.csv')"
   ]
  },
  {
   "cell_type": "code",
   "execution_count": null,
   "metadata": {},
   "outputs": [],
   "source": [
    "#Columns name\n",
    "print('\\nColumns after data handling:')\n",
    "print('\\n','#' * 20)\n",
    "print('\\nPlayers Data:')\n",
    "print('\\n','-' * 10,'>', list(df_players.columns))\n",
    "print('\\nGames Data:')\n",
    "print('\\n','-' * 10,'>', list(df_games.columns))\n",
    "print('\\nTeams Data:')\n",
    "print('\\n','-' * 10,'>', list(df_teams.columns))\n",
    "print('\\nGames United Data:')\n",
    "print('\\n','-' * 10,'>', list(df_games_united.columns))"
   ]
  },
  {
   "cell_type": "code",
   "execution_count": null,
   "metadata": {},
   "outputs": [],
   "source": [
    "#Columns count\n",
    "print('Numbers of columns:')\n",
    "print('\\n','#' * 20)\n",
    "print('\\nPlayers Data:')\n",
    "print('\\n','-' * 10,'>', len(df_players.columns))\n",
    "print('\\nGames Data:')\n",
    "print('\\n','-' * 10,'>', len(df_games.columns))\n",
    "print('\\nTeams Data:')\n",
    "print('\\n','-' * 10,'>', len(df_teams.columns))\n",
    "print('\\nGames United Data:')\n",
    "print('\\n','-' * 10,'>', len(df_games_united.columns))"
   ]
  },
  {
   "cell_type": "code",
   "execution_count": null,
   "metadata": {},
   "outputs": [],
   "source": [
    "df_players.describe(include = 'all')"
   ]
  },
  {
   "cell_type": "code",
   "execution_count": null,
   "metadata": {},
   "outputs": [],
   "source": [
    "df_games.describe(include = 'all')"
   ]
  },
  {
   "cell_type": "code",
   "execution_count": null,
   "metadata": {},
   "outputs": [],
   "source": [
    "df_teams.describe(include = 'all')"
   ]
  },
  {
   "cell_type": "code",
   "execution_count": null,
   "metadata": {},
   "outputs": [],
   "source": [
    "df_games_united.describe(include = 'all')"
   ]
  },
  {
   "cell_type": "code",
   "execution_count": null,
   "metadata": {},
   "outputs": [],
   "source": [
    "df_games.info()"
   ]
  },
  {
   "cell_type": "code",
   "execution_count": null,
   "metadata": {
    "scrolled": false
   },
   "outputs": [],
   "source": [
    "df_players.info()"
   ]
  },
  {
   "cell_type": "code",
   "execution_count": null,
   "metadata": {},
   "outputs": [],
   "source": [
    "df_teams.info()"
   ]
  },
  {
   "cell_type": "code",
   "execution_count": null,
   "metadata": {},
   "outputs": [],
   "source": [
    "df_games_united.info()"
   ]
  },
  {
   "cell_type": "code",
   "execution_count": null,
   "metadata": {},
   "outputs": [],
   "source": [
    "sns.pairplot(df_players)\n",
    "plt.show()"
   ]
  },
  {
   "cell_type": "code",
   "execution_count": null,
   "metadata": {},
   "outputs": [],
   "source": [
    "sns.pairplot(df_teams)\n",
    "plt.show()"
   ]
  },
  {
   "cell_type": "code",
   "execution_count": null,
   "metadata": {},
   "outputs": [],
   "source": [
    "sns.pairplot(df_games_united)\n",
    "plt.show()"
   ]
  },
  {
   "cell_type": "code",
   "execution_count": null,
   "metadata": {},
   "outputs": [],
   "source": [
    "#Total team points\n",
    "sns.histplot(df_games.TOTAL_POINTS, kde=True, stat=\"count\", linewidth=0)\n",
    "plt.show()"
   ]
  },
  {
   "cell_type": "code",
   "execution_count": null,
   "metadata": {},
   "outputs": [],
   "source": [
    "df_players_1 = df_players.sort_values('TOTAL_SCORE', ascending=False)[:10]\n",
    "df_players_1"
   ]
  },
  {
   "cell_type": "code",
   "execution_count": null,
   "metadata": {},
   "outputs": [],
   "source": [
    "#Minutes played by highest score players\n",
    "fig,axs=plt.subplots()\n",
    "fig.set_size_inches(15,5)\n",
    "p1=sns.barplot(x='PLAYER',y='MINUTES_PLAYED', data=df_players_1 ,ax=axs, ci=None)\n",
    "plt.show()"
   ]
  },
  {
   "cell_type": "code",
   "execution_count": null,
   "metadata": {},
   "outputs": [],
   "source": [
    "#Teams score\n",
    "fig,axs=plt.subplots()\n",
    "fig.set_size_inches(15,5)\n",
    "p1=sns.barplot(x='TEAM_NAME',y='TOTAL_TEAM_SCORE',data=df_teams,ax=axs, ci=None)\n",
    "plt.show()"
   ]
  },
  {
   "cell_type": "code",
   "execution_count": null,
   "metadata": {},
   "outputs": [],
   "source": [
    "df_players_2= df_games[::-1][:50]\n",
    "df_players_2"
   ]
  },
  {
   "cell_type": "code",
   "execution_count": null,
   "metadata": {
    "scrolled": true
   },
   "outputs": [],
   "source": [
    "# Minutes played by highest score players\n",
    "fig,axs=plt.subplots()\n",
    "fig.set_size_inches(15,5)\n",
    "p1=sns.barplot(x='TEAM',y='TOTAL_POINTS', hue='DATE', data=df_players_2 ,ax=axs, ci=None)\n",
    "plt.show()"
   ]
  },
  {
   "cell_type": "code",
   "execution_count": null,
   "metadata": {},
   "outputs": [],
   "source": [
    "df_by_qtr = df_games[::-1][:20][['TEAM', 'POINTS_Q1', 'POINTS_Q2', 'POINTS_Q3', 'POINTS_Q4']]\n",
    "df_by_qtr"
   ]
  },
  {
   "cell_type": "code",
   "execution_count": null,
   "metadata": {},
   "outputs": [],
   "source": [
    "df_by_qtr.plot.bar(stacked=True)"
   ]
  },
  {
   "cell_type": "code",
   "execution_count": null,
   "metadata": {},
   "outputs": [],
   "source": [
    "df_players_1 = df_players[df_players[\"MINUTES_PLAYED\"] > 400]\n",
    "df_players_1[\"AST_TOV\"] = df_players_1[\"ASSISTS\"] / df_players_1[\"TOV\"]\n",
    "\n",
    "df_players_1 = df_players_1.sort_values('ASSISTS', ascending=False)[:10]\n",
    "df_players_1"
   ]
  },
  {
   "cell_type": "code",
   "execution_count": null,
   "metadata": {
    "scrolled": true
   },
   "outputs": [],
   "source": [
    "#The best assist passers in the league\n",
    "fig,axs=plt.subplots()\n",
    "fig.set_size_inches(15,5)\n",
    "p1=sns.barplot(x='PLAYER',y='AST_TOV',data=df_players_1 ,ax=axs, ci=None)\n",
    "plt.show()"
   ]
  },
  {
   "cell_type": "code",
   "execution_count": null,
   "metadata": {},
   "outputs": [],
   "source": [
    "df_rebounds = df_players[df_players[\"MINUTES_PLAYED\"] > 400]\n",
    "df_rebounds.plot.scatter(x=\"DEFFENSIVE_REBOUNDS\", y=\"OFFENSIVE_REBOUNDS\")"
   ]
  }
 ],
 "metadata": {
  "kernelspec": {
   "display_name": "Python 3",
   "language": "python",
   "name": "python3"
  }
 },
 "nbformat": 4,
 "nbformat_minor": 4
}