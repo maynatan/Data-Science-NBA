{
 "cells": [
  {
   "cell_type": "markdown",
   "metadata": {},
   "source": [
    "DATA SCIENCE PROJECT"
   ]
  },
  {
   "cell_type": "markdown",
   "metadata": {},
   "source": [
    "NBA – The National Basketball Association"
   ]
  },
  {
   "cell_type": "markdown",
   "metadata": {},
   "source": [
    "Amitay Biton & May Natan"
   ]
  },
  {
   "cell_type": "markdown",
   "metadata": {},
   "source": [
    "Can we predict who will be the winner in each game?"
   ]
  },
  {
   "cell_type": "code",
   "execution_count": null,
   "metadata": {},
   "outputs": [],
   "source": [
    "from nba_api.stats import endpoints\n",
    "import csv\n",
    "from datetime import date, timedelta"
   ]
  },
  {
   "cell_type": "code",
   "execution_count": null,
   "metadata": {},
   "outputs": [],
   "source": [
    "# running on all dates from beginning to end\n",
    "def daterange(start_date, end_date):\n",
    "    for n in range(int((end_date - start_date).days)):\n",
    "        yield start_date + timedelta(n)\n",
    "\n",
    "\n",
    "f = open(r\"./nba-scores.csv\", 'w', newline='')  # outpath\n",
    "writer = csv.writer(f)\n",
    "\n",
    "start_date = date(2021, 6, 1)   # season started at 2020-12-22\n",
    "end_date = date(2021, 6, 22)    # current date\n",
    "first = True\n",
    "for single_date in daterange(start_date, end_date):\n",
    "    # logging current date\n",
    "    print(single_date.strftime(\"%Y-%m-%d\"))\n",
    "\n",
    "    # getting to all scores at this date\n",
    "    scores = endpoints.scoreboardv2.ScoreboardV2(game_date=single_date.strftime(\"%Y-%m-%d\"))\n",
    "\n",
    "    # if we just started scanning- writing the headers\n",
    "    if first:\n",
    "        writer.writerow(scores.get_dict()['resultSets'][1]['headers'])\n",
    "        first = False\n",
    "\n",
    "    # writing the score for each game played at this date\n",
    "    scr = scores.get_dict()['resultSets'][1]\n",
    "    for scr_record in scr['rowSet']:\n",
    "        writer.writerow(scr_record)\n"
   ]
  },
  {
   "cell_type": "code",
   "execution_count": null,
   "metadata": {},
   "outputs": [],
   "source": [
    "leaders = endpoints.leagueleaders.LeagueLeaders().get_dict()['resultSet']\n",
    "\n",
    "out_file = open(r\"./nba-players.csv\", 'w', newline='')  # outpath\n",
    "writer = csv.writer(out_file)\n",
    "\n",
    "writer.writerow(leaders['headers'])\n",
    "writer.writerows(leaders['rowSet'])\n",
    "\n",
    "out_file.close()\n",
    "\n"
   ]
  },
  {
   "cell_type": "code",
   "execution_count": null,
   "metadata": {},
   "outputs": [],
   "source": [
    "def write_data_to_csv(file_path, headers, data):\n",
    "    out_file = open(file_path, 'w', newline='')\n",
    "    writer = csv.writer(out_file)\n",
    "    writer.writerow(headers)\n",
    "    writer.writerows(data)\n",
    "    out_file.close()\n",
    "\n",
    "\n",
    "# regular season information\n",
    "matchups = endpoints.leagueseasonmatchups.LeagueSeasonMatchups().get_dict()['resultSets'][0]\n",
    "write_data_to_csv(r\"./nba-players-matchups-sesaon.csv\",\n",
    "                  matchups['headers'], matchups['rowSet'])\n",
    "\n",
    "# playoffs data\n",
    "matchups = endpoints.leagueseasonmatchups.LeagueSeasonMatchups(season_type_playoffs='Playoffs').get_dict()['resultSets'][0]\n",
    "write_data_to_csv(r\"./nba-players-matchups-playoffs.csv\",\n",
    "                  matchups['headers'], matchups['rowSet'])\n"
   ]
  },
  {
   "cell_type": "markdown",
   "metadata": {},
   "source": [
    "END"
   ]
  }
 ],
 "metadata": {
  "kernelspec": {
   "display_name": "Python 3",
   "language": "python",
   "name": "python3"
  },
  "language_info": {
   "codemirror_mode": {
    "name": "ipython",
    "version": 3
   },
   "file_extension": ".py",
   "mimetype": "text/x-python",
   "name": "python",
   "nbconvert_exporter": "python",
   "pygments_lexer": "ipython3",
   "version": "3.8.5"
  }
 },
 "nbformat": 4,
 "nbformat_minor": 4
}
